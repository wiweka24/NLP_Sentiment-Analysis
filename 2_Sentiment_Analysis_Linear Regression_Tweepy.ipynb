{
  "cells": [
    {
      "cell_type": "markdown",
      "source": [
        "**Tugas Akhir Pemrograman Bahasa Alami** <br/>\n",
        "Sentiment Analysis menggunakan Metode Logistic Regression <br/>\n",
        "\n",
        "---\n",
        "\n",
        "Nama : Wiweka Yoga Sadewa <br/>\n",
        "NIM : 20/456382/TK/50512 <br/>\n",
        "\n",
        "---\n",
        "\n",
        "Link Presentasi : <br/>\n",
        "https://www.canva.com/design/DAFThdd2qrg/JsLqxIQiFKXgLu0Wi701yQ/view?utm_content=DAFThdd2qrg&utm_campaign=designshare&utm_medium=link2&utm_source=sharebutton"
      ],
      "metadata": {
        "id": "WtV9VJKOH9hO"
      }
    },
    {
      "cell_type": "markdown",
      "source": [
        "### Library"
      ],
      "metadata": {
        "id": "KyrLF93xHAnb"
      }
    },
    {
      "cell_type": "code",
      "execution_count": null,
      "metadata": {
        "collapsed": true,
        "id": "r4Pz5gmtGdut"
      },
      "outputs": [],
      "source": [
        "import re\n",
        "import numpy as np\n",
        "import pandas as pd\n",
        "import json\n",
        "import tweepy\n",
        "\n",
        "from nltk import word_tokenize\n",
        "from nltk.corpus import stopwords\n",
        "from sklearn.model_selection import train_test_split\n",
        "from Sastrawi.Stemmer.StemmerFactory import StemmerFactory\n",
        "import matplotlib.pyplot as plt"
      ]
    },
    {
      "cell_type": "markdown",
      "source": [
        "### Dataset"
      ],
      "metadata": {
        "id": "Z-9KlIlEHLHc"
      }
    },
    {
      "cell_type": "code",
      "execution_count": null,
      "outputs": [],
      "source": [
        "# Datase Yang Digunakan\n",
        "path = \"./dataset\"\n",
        "data1 = pd.read_csv(path + '/dataset_komentar_instagram_cyberbullying.csv')\n",
        "data2 = pd.read_csv(path + '/dataset_tweet_sentiment_opini_film.csv')"
      ],
      "metadata": {
        "id": "7GK7N18nGduv"
      }
    },
    {
      "cell_type": "code",
      "execution_count": null,
      "outputs": [],
      "source": [
        "data1.drop(columns=['Id'], inplace=True)\n",
        "data1.rename(columns={'Instagram Comment Text': 'Tweet'}, inplace=True)\n",
        "\n",
        "data2.drop(columns=['Id'], inplace=True)\n",
        "data2.rename(columns={'Text Tweet': 'Tweet'}, inplace=True)"
      ],
      "metadata": {
        "id": "lj6rbCtVGduv"
      }
    },
    {
      "cell_type": "code",
      "execution_count": null,
      "outputs": [
        {
          "data": {
            "text/plain": "    Sentiment                                              Tweet\n0    negative   <USERNAME> TOLOL!! Gak ada hubungan nya kegug...\n1    negative  Geblek lo tata...cowo bgt dibela2in balikan......\n2    negative  Kmrn termewek2 skr lengket lg duhhh kok labil ...\n3    negative  Intinya kalau kesel dengan ATT nya, gausah ke ...\n4    negative  hadewwwww permpuan itu lg!!!!sakit jiwa,knp ha...\n..        ...                                                ...\n595  positive  Fargo juga adaptasi dari film yang cukup berha...\n596  positive  637.000 waw ini sangat keren flm horor dng jum...\n597  positive  @filmziarah film yang tenang dan menghanyutkan...\n598  positive  Film yg amat menarik. Kisah cinta & kesetiaan ...\n599  positive  Nntn @filmziarah , film bagus, ada kali 5 meni...\n\n[600 rows x 2 columns]",
            "text/html": "<div>\n<style scoped>\n    .dataframe tbody tr th:only-of-type {\n        vertical-align: middle;\n    }\n\n    .dataframe tbody tr th {\n        vertical-align: top;\n    }\n\n    .dataframe thead th {\n        text-align: right;\n    }\n</style>\n<table border=\"1\" class=\"dataframe\">\n  <thead>\n    <tr style=\"text-align: right;\">\n      <th></th>\n      <th>Sentiment</th>\n      <th>Tweet</th>\n    </tr>\n  </thead>\n  <tbody>\n    <tr>\n      <th>0</th>\n      <td>negative</td>\n      <td>&lt;USERNAME&gt; TOLOL!! Gak ada hubungan nya kegug...</td>\n    </tr>\n    <tr>\n      <th>1</th>\n      <td>negative</td>\n      <td>Geblek lo tata...cowo bgt dibela2in balikan......</td>\n    </tr>\n    <tr>\n      <th>2</th>\n      <td>negative</td>\n      <td>Kmrn termewek2 skr lengket lg duhhh kok labil ...</td>\n    </tr>\n    <tr>\n      <th>3</th>\n      <td>negative</td>\n      <td>Intinya kalau kesel dengan ATT nya, gausah ke ...</td>\n    </tr>\n    <tr>\n      <th>4</th>\n      <td>negative</td>\n      <td>hadewwwww permpuan itu lg!!!!sakit jiwa,knp ha...</td>\n    </tr>\n    <tr>\n      <th>...</th>\n      <td>...</td>\n      <td>...</td>\n    </tr>\n    <tr>\n      <th>595</th>\n      <td>positive</td>\n      <td>Fargo juga adaptasi dari film yang cukup berha...</td>\n    </tr>\n    <tr>\n      <th>596</th>\n      <td>positive</td>\n      <td>637.000 waw ini sangat keren flm horor dng jum...</td>\n    </tr>\n    <tr>\n      <th>597</th>\n      <td>positive</td>\n      <td>@filmziarah film yang tenang dan menghanyutkan...</td>\n    </tr>\n    <tr>\n      <th>598</th>\n      <td>positive</td>\n      <td>Film yg amat menarik. Kisah cinta &amp; kesetiaan ...</td>\n    </tr>\n    <tr>\n      <th>599</th>\n      <td>positive</td>\n      <td>Nntn @filmziarah , film bagus, ada kali 5 meni...</td>\n    </tr>\n  </tbody>\n</table>\n<p>600 rows × 2 columns</p>\n</div>"
          },
          "execution_count": 4,
          "metadata": {},
          "output_type": "execute_result"
        }
      ],
      "source": [
        "data = pd.concat([data1, data2], ignore_index=True)\n",
        "data"
      ],
      "metadata": {
        "id": "dWNFfyVXGduv",
        "outputId": "1d1de819-e6dd-4eeb-cf5b-849943894514"
      }
    },
    {
      "cell_type": "markdown",
      "source": [
        "### Cleaning dan Preprocessing Dataset"
      ],
      "metadata": {
        "id": "4PNdicSRHQDi"
      }
    },
    {
      "cell_type": "code",
      "execution_count": null,
      "outputs": [],
      "source": [
        "# Reading Slang data from the file\n",
        "with open(path+\"/slang.txt\") as f:\n",
        "    slang = f.read()\n",
        "slang = json.loads(slang)"
      ],
      "metadata": {
        "id": "jfDrhCyWGduw"
      }
    },
    {
      "cell_type": "code",
      "execution_count": null,
      "outputs": [
        {
          "data": {
            "text/plain": "{'ada',\n 'adalah',\n 'adanya',\n 'adapun',\n 'agak',\n 'agaknya',\n 'agar',\n 'akan',\n 'akankah',\n 'akhir',\n 'akhiri',\n 'akhirnya',\n 'aku',\n 'akulah',\n 'amat',\n 'amatlah',\n 'anda',\n 'andalah',\n 'antar',\n 'antara',\n 'antaranya',\n 'apa',\n 'apaan',\n 'apabila',\n 'apakah',\n 'apalagi',\n 'apatah',\n 'artinya',\n 'asal',\n 'asalkan',\n 'atas',\n 'atau',\n 'ataukah',\n 'ataupun',\n 'awal',\n 'awalnya',\n 'bagai',\n 'bagaikan',\n 'bagaimana',\n 'bagaimanakah',\n 'bagaimanapun',\n 'bagi',\n 'bagian',\n 'bahkan',\n 'bahwa',\n 'bahwasanya',\n 'baik',\n 'bakal',\n 'bakalan',\n 'balik',\n 'banyak',\n 'bapak',\n 'baru',\n 'bawah',\n 'beberapa',\n 'begini',\n 'beginian',\n 'beginikah',\n 'beginilah',\n 'begitu',\n 'begitukah',\n 'begitulah',\n 'begitupun',\n 'bekerja',\n 'belakang',\n 'belakangan',\n 'belum',\n 'belumlah',\n 'benar',\n 'benarkah',\n 'benarlah',\n 'berada',\n 'berakhir',\n 'berakhirlah',\n 'berakhirnya',\n 'berapa',\n 'berapakah',\n 'berapalah',\n 'berapapun',\n 'berarti',\n 'berawal',\n 'berbagai',\n 'berdatangan',\n 'beri',\n 'berikan',\n 'berikut',\n 'berikutnya',\n 'berjumlah',\n 'berkali-kali',\n 'berkata',\n 'berkehendak',\n 'berkeinginan',\n 'berkenaan',\n 'berlainan',\n 'berlalu',\n 'berlangsung',\n 'berlebihan',\n 'bermacam',\n 'bermacam-macam',\n 'bermaksud',\n 'bermula',\n 'bersama',\n 'bersama-sama',\n 'bersiap',\n 'bersiap-siap',\n 'bertanya',\n 'bertanya-tanya',\n 'berturut',\n 'berturut-turut',\n 'bertutur',\n 'berujar',\n 'berupa',\n 'besar',\n 'betul',\n 'betulkah',\n 'biasa',\n 'biasanya',\n 'bila',\n 'bilakah',\n 'bisa',\n 'bisakah',\n 'boleh',\n 'bolehkah',\n 'bolehlah',\n 'buat',\n 'bukan',\n 'bukankah',\n 'bukanlah',\n 'bukannya',\n 'bulan',\n 'bung',\n 'cara',\n 'caranya',\n 'cukup',\n 'cukupkah',\n 'cukuplah',\n 'cuma',\n 'dahulu',\n 'dalam',\n 'dan',\n 'dapat',\n 'dari',\n 'daripada',\n 'datang',\n 'dekat',\n 'demi',\n 'demikian',\n 'demikianlah',\n 'dengan',\n 'depan',\n 'di',\n 'dia',\n 'diakhiri',\n 'diakhirinya',\n 'dialah',\n 'diantara',\n 'diantaranya',\n 'diberi',\n 'diberikan',\n 'diberikannya',\n 'dibuat',\n 'dibuatnya',\n 'didapat',\n 'didatangkan',\n 'digunakan',\n 'diibaratkan',\n 'diibaratkannya',\n 'diingat',\n 'diingatkan',\n 'diinginkan',\n 'dijawab',\n 'dijelaskan',\n 'dijelaskannya',\n 'dikarenakan',\n 'dikatakan',\n 'dikatakannya',\n 'dikerjakan',\n 'diketahui',\n 'diketahuinya',\n 'dikira',\n 'dilakukan',\n 'dilalui',\n 'dilihat',\n 'dimaksud',\n 'dimaksudkan',\n 'dimaksudkannya',\n 'dimaksudnya',\n 'diminta',\n 'dimintai',\n 'dimisalkan',\n 'dimulai',\n 'dimulailah',\n 'dimulainya',\n 'dimungkinkan',\n 'dini',\n 'dipastikan',\n 'diperbuat',\n 'diperbuatnya',\n 'dipergunakan',\n 'diperkirakan',\n 'diperlihatkan',\n 'diperlukan',\n 'diperlukannya',\n 'dipersoalkan',\n 'dipertanyakan',\n 'dipunyai',\n 'diri',\n 'dirinya',\n 'disampaikan',\n 'disebut',\n 'disebutkan',\n 'disebutkannya',\n 'disini',\n 'disinilah',\n 'ditambahkan',\n 'ditandaskan',\n 'ditanya',\n 'ditanyai',\n 'ditanyakan',\n 'ditegaskan',\n 'ditujukan',\n 'ditunjuk',\n 'ditunjuki',\n 'ditunjukkan',\n 'ditunjukkannya',\n 'ditunjuknya',\n 'dituturkan',\n 'dituturkannya',\n 'diucapkan',\n 'diucapkannya',\n 'diungkapkan',\n 'dong',\n 'dua',\n 'dulu',\n 'empat',\n 'enggak',\n 'enggaknya',\n 'entah',\n 'entahlah',\n 'guna',\n 'gunakan',\n 'hal',\n 'hampir',\n 'hanya',\n 'hanyalah',\n 'hari',\n 'harus',\n 'haruslah',\n 'harusnya',\n 'hendak',\n 'hendaklah',\n 'hendaknya',\n 'hingga',\n 'ia',\n 'ialah',\n 'ibarat',\n 'ibaratkan',\n 'ibaratnya',\n 'ibu',\n 'ikut',\n 'ingat',\n 'ingat-ingat',\n 'ingin',\n 'inginkah',\n 'inginkan',\n 'ini',\n 'inikah',\n 'inilah',\n 'itu',\n 'itukah',\n 'itulah',\n 'jadi',\n 'jadilah',\n 'jadinya',\n 'jangan',\n 'jangankan',\n 'janganlah',\n 'jauh',\n 'jawab',\n 'jawaban',\n 'jawabnya',\n 'jelas',\n 'jelaskan',\n 'jelaslah',\n 'jelasnya',\n 'jika',\n 'jikalau',\n 'juga',\n 'jumlah',\n 'jumlahnya',\n 'justru',\n 'kala',\n 'kalau',\n 'kalaulah',\n 'kalaupun',\n 'kalian',\n 'kami',\n 'kamilah',\n 'kamu',\n 'kamulah',\n 'kan',\n 'kapan',\n 'kapankah',\n 'kapanpun',\n 'karena',\n 'karenanya',\n 'kasus',\n 'kata',\n 'katakan',\n 'katakanlah',\n 'katanya',\n 'ke',\n 'keadaan',\n 'kebetulan',\n 'kecil',\n 'kedua',\n 'keduanya',\n 'keinginan',\n 'kelamaan',\n 'kelihatan',\n 'kelihatannya',\n 'kelima',\n 'keluar',\n 'kembali',\n 'kemudian',\n 'kemungkinan',\n 'kemungkinannya',\n 'kenapa',\n 'kepada',\n 'kepadanya',\n 'kesampaian',\n 'keseluruhan',\n 'keseluruhannya',\n 'keterlaluan',\n 'ketika',\n 'khususnya',\n 'kini',\n 'kinilah',\n 'kira',\n 'kira-kira',\n 'kiranya',\n 'kita',\n 'kitalah',\n 'kok',\n 'kurang',\n 'lagi',\n 'lagian',\n 'lah',\n 'lain',\n 'lainnya',\n 'lalu',\n 'lama',\n 'lamanya',\n 'lanjut',\n 'lanjutnya',\n 'lebih',\n 'lewat',\n 'lima',\n 'luar',\n 'macam',\n 'maka',\n 'makanya',\n 'makin',\n 'malah',\n 'malahan',\n 'mampu',\n 'mampukah',\n 'mana',\n 'manakala',\n 'manalagi',\n 'masa',\n 'masalah',\n 'masalahnya',\n 'masih',\n 'masihkah',\n 'masing',\n 'masing-masing',\n 'mau',\n 'maupun',\n 'melainkan',\n 'melakukan',\n 'melalui',\n 'melihat',\n 'melihatnya',\n 'memang',\n 'memastikan',\n 'memberi',\n 'memberikan',\n 'membuat',\n 'memerlukan',\n 'memihak',\n 'meminta',\n 'memintakan',\n 'memisalkan',\n 'memperbuat',\n 'mempergunakan',\n 'memperkirakan',\n 'memperlihatkan',\n 'mempersiapkan',\n 'mempersoalkan',\n 'mempertanyakan',\n 'mempunyai',\n 'memulai',\n 'memungkinkan',\n 'menaiki',\n 'menambahkan',\n 'menandaskan',\n 'menanti',\n 'menanti-nanti',\n 'menantikan',\n 'menanya',\n 'menanyai',\n 'menanyakan',\n 'mendapat',\n 'mendapatkan',\n 'mendatang',\n 'mendatangi',\n 'mendatangkan',\n 'menegaskan',\n 'mengakhiri',\n 'mengapa',\n 'mengatakan',\n 'mengatakannya',\n 'mengenai',\n 'mengerjakan',\n 'mengetahui',\n 'menggunakan',\n 'menghendaki',\n 'mengibaratkan',\n 'mengibaratkannya',\n 'mengingat',\n 'mengingatkan',\n 'menginginkan',\n 'mengira',\n 'mengucapkan',\n 'mengucapkannya',\n 'mengungkapkan',\n 'menjadi',\n 'menjawab',\n 'menjelaskan',\n 'menuju',\n 'menunjuk',\n 'menunjuki',\n 'menunjukkan',\n 'menunjuknya',\n 'menurut',\n 'menuturkan',\n 'menyampaikan',\n 'menyangkut',\n 'menyatakan',\n 'menyebutkan',\n 'menyeluruh',\n 'menyiapkan',\n 'merasa',\n 'mereka',\n 'merekalah',\n 'merupakan',\n 'meski',\n 'meskipun',\n 'meyakini',\n 'meyakinkan',\n 'minta',\n 'mirip',\n 'misal',\n 'misalkan',\n 'misalnya',\n 'mula',\n 'mulai',\n 'mulailah',\n 'mulanya',\n 'mungkin',\n 'mungkinkah',\n 'nah',\n 'naik',\n 'namun',\n 'nanti',\n 'nantinya',\n 'nyaris',\n 'nyatanya',\n 'oleh',\n 'olehnya',\n 'pada',\n 'padahal',\n 'padanya',\n 'pak',\n 'paling',\n 'panjang',\n 'pantas',\n 'para',\n 'pasti',\n 'pastilah',\n 'penting',\n 'pentingnya',\n 'per',\n 'percuma',\n 'perlu',\n 'perlukah',\n 'perlunya',\n 'pernah',\n 'persoalan',\n 'pertama',\n 'pertama-tama',\n 'pertanyaan',\n 'pertanyakan',\n 'pihak',\n 'pihaknya',\n 'pukul',\n 'pula',\n 'pun',\n 'punya',\n 'rasa',\n 'rasanya',\n 'rata',\n 'rupanya',\n 'saat',\n 'saatnya',\n 'saja',\n 'sajalah',\n 'saling',\n 'sama',\n 'sama-sama',\n 'sambil',\n 'sampai',\n 'sampai-sampai',\n 'sampaikan',\n 'sana',\n 'sangat',\n 'sangatlah',\n 'satu',\n 'saya',\n 'sayalah',\n 'se',\n 'sebab',\n 'sebabnya',\n 'sebagai',\n 'sebagaimana',\n 'sebagainya',\n 'sebagian',\n 'sebaik',\n 'sebaik-baiknya',\n 'sebaiknya',\n 'sebaliknya',\n 'sebanyak',\n 'sebegini',\n 'sebegitu',\n 'sebelum',\n 'sebelumnya',\n 'sebenarnya',\n 'seberapa',\n 'sebesar',\n 'sebetulnya',\n 'sebisanya',\n 'sebuah',\n 'sebut',\n 'sebutlah',\n 'sebutnya',\n 'secara',\n 'secukupnya',\n 'sedang',\n 'sedangkan',\n 'sedemikian',\n 'sedikit',\n 'sedikitnya',\n 'seenaknya',\n 'segala',\n 'segalanya',\n 'segera',\n 'seharusnya',\n 'sehingga',\n 'seingat',\n 'sejak',\n 'sejauh',\n 'sejenak',\n 'sejumlah',\n 'sekadar',\n 'sekadarnya',\n 'sekali',\n 'sekali-kali',\n 'sekalian',\n 'sekaligus',\n 'sekalipun',\n 'sekarang',\n 'sekecil',\n 'seketika',\n 'sekiranya',\n 'sekitar',\n 'sekitarnya',\n 'sekurang-kurangnya',\n 'sekurangnya',\n 'sela',\n 'selain',\n 'selaku',\n 'selalu',\n 'selama',\n 'selama-lamanya',\n 'selamanya',\n 'selanjutnya',\n 'seluruh',\n 'seluruhnya',\n 'semacam',\n 'semakin',\n 'semampu',\n 'semampunya',\n 'semasa',\n 'semasih',\n 'semata',\n 'semata-mata',\n 'semaunya',\n 'sementara',\n 'semisal',\n 'semisalnya',\n 'sempat',\n 'semua',\n 'semuanya',\n 'semula',\n 'sendiri',\n 'sendirian',\n 'sendirinya',\n 'seolah',\n 'seolah-olah',\n 'seorang',\n 'sepanjang',\n 'sepantasnya',\n 'sepantasnyalah',\n 'seperlunya',\n 'seperti',\n 'sepertinya',\n 'sepihak',\n 'sering',\n 'seringnya',\n 'serta',\n 'serupa',\n 'sesaat',\n 'sesama',\n 'sesampai',\n 'sesegera',\n 'sesekali',\n 'seseorang',\n 'sesuatu',\n 'sesuatunya',\n 'sesudah',\n 'sesudahnya',\n 'setelah',\n 'setempat',\n 'setengah',\n 'seterusnya',\n 'setiap',\n 'setiba',\n 'setibanya',\n 'setidak-tidaknya',\n 'setidaknya',\n 'setinggi',\n 'seusai',\n 'sewaktu',\n 'siap',\n 'siapa',\n 'siapakah',\n 'siapapun',\n 'sini',\n 'sinilah',\n 'soal',\n 'soalnya',\n 'suatu',\n 'sudah',\n 'sudahkah',\n 'sudahlah',\n 'supaya',\n 'tadi',\n 'tadinya',\n 'tahu',\n 'tahun',\n 'tak',\n 'tambah',\n 'tambahnya',\n 'tampak',\n 'tampaknya',\n 'tandas',\n 'tandasnya',\n 'tanpa',\n 'tanya',\n 'tanyakan',\n 'tanyanya',\n 'tapi',\n 'tegas',\n 'tegasnya',\n 'telah',\n 'tempat',\n 'tengah',\n 'tentang',\n 'tentu',\n 'tentulah',\n 'tentunya',\n 'tepat',\n 'terakhir',\n 'terasa',\n 'terbanyak',\n 'terdahulu',\n 'terdapat',\n 'terdiri',\n 'terhadap',\n 'terhadapnya',\n 'teringat',\n 'teringat-ingat',\n 'terjadi',\n 'terjadilah',\n 'terjadinya',\n 'terkira',\n 'terlalu',\n 'terlebih',\n 'terlihat',\n 'termasuk',\n 'ternyata',\n 'tersampaikan',\n 'tersebut',\n 'tersebutlah',\n 'tertentu',\n 'tertuju',\n 'terus',\n 'terutama',\n 'tetap',\n 'tetapi',\n 'tiap',\n 'tiba',\n 'tiba-tiba',\n 'tidak',\n 'tidakkah',\n 'tidaklah',\n 'tiga',\n 'tinggi',\n 'toh',\n 'tunjuk',\n 'turut',\n 'tutur',\n 'tuturnya',\n 'ucap',\n 'ucapnya',\n 'ujar',\n 'ujarnya',\n 'umum',\n 'umumnya',\n 'ungkap',\n 'ungkapnya',\n 'untuk',\n 'usah',\n 'usai',\n 'waduh',\n 'wah',\n 'wahai',\n 'waktu',\n 'waktunya',\n 'walau',\n 'walaupun',\n 'wong',\n 'yaitu',\n 'yakin',\n 'yakni',\n 'yang'}"
          },
          "execution_count": 6,
          "metadata": {},
          "output_type": "execute_result"
        }
      ],
      "source": [
        "# Stopword\n",
        "# jika belum punya\n",
        "# nltk.download('stopwords') jika belum punya\n",
        "\n",
        "stopword = stopwords.words('indonesian')\n",
        "stopword = set(stopword)\n",
        "stopword"
      ],
      "metadata": {
        "id": "74urhey4Gduw",
        "outputId": "d5890a50-ba60-4ccf-b260-b6123d84bbb1"
      }
    },
    {
      "cell_type": "code",
      "execution_count": null,
      "outputs": [],
      "source": [
        "# Preprocessing\n",
        "def cleaning_text(text):\n",
        "    # Remove link\n",
        "    text = re.sub(r'http\\S+', '', text)\n",
        "    #Remove Tag Account\n",
        "    text = re.sub(r'@[A-Za-z0-9]+', '', text)\n",
        "    text = re.sub(r'USERNAME', '', text)\n",
        "    #Remove Hastag\n",
        "    text = re.sub(r'#[A-Za-z0-9]+', '', text)\n",
        "    # Remove retweet\n",
        "    text = re.sub(r'RT[\\s]+', '', text)\n",
        "    #Remove Special Character\n",
        "    text = re.sub(r'[^\\w\\s]', '', text)\n",
        "    text = text.lower()\n",
        "    return text\n",
        "\n",
        "def remove_slang_akronim(text, slang = slang):\n",
        "    text = ''.join(slang[p] if p in slang else p for p in re.split(r'(\\W+)', text))\n",
        "    return text\n",
        "\n",
        "def remove_stopword(text, stopword = stopword):\n",
        "    word_tokens = word_tokenize(text)\n",
        "    filtered_sentence = [w for w in word_tokens if not w in stopword]\n",
        "    return ' '.join(filtered_sentence)\n",
        "\n",
        "def stemming_and_lemmatization(text):\n",
        "    factory = StemmerFactory()\n",
        "    stemmer = factory.create_stemmer()\n",
        "    return stemmer.stem(text)\n",
        "\n",
        "def tokenize(text):\n",
        "    return word_tokenize(text)\n",
        "\n",
        "def preprocess(text):\n",
        "    # cleaning text and lowercase\n",
        "    output = cleaning_text(text)\n",
        "    # remove slang\n",
        "    output = remove_slang_akronim(output)\n",
        "    # remove stopwords\n",
        "    output = remove_stopword(output)\n",
        "    # stemming and lemmatization\n",
        "    output = stemming_and_lemmatization(output)\n",
        "    # tokenizing\n",
        "    output = tokenize(output)\n",
        "\n",
        "    return output"
      ],
      "metadata": {
        "id": "Ok0GtrZzGduw"
      }
    },
    {
      "cell_type": "code",
      "execution_count": null,
      "outputs": [
        {
          "name": "stdout",
          "output_type": "stream",
          "text": [
            "original text:\n",
            " <USERNAME> TOLOL!! Gak ada hubungan nya keguguran dgn pake hijab syar'i yg lo bilang bayi nya kepanasan didalem gak ada hubungan nya woyyyy!! Otak sama jempol lo gak singkron sih ya jadinya asal nulis komentar!\n",
            "\n",
            "remove punctuation:\n",
            "  tolol gak ada hubungan nya keguguran dgn pake hijab syari yg lo bilang bayi nya kepanasan didalem gak ada hubungan nya woyyyy otak sama jempol lo gak singkron sih ya jadinya asal nulis komentar\n",
            "\n",
            "remove slang:\n",
            "  tolol gak ada hubungan nya keguguran dengan pakai hijab syari yang kamu bilang bayi nya kepanasan didalem gak ada hubungan nya woyyyy otak sama jempol kamu gak singkron sih iya jadinya asal nulis komentar\n",
            "\n",
            "remove stopword:\n",
            "tolol gak hubungan nya keguguran pakai hijab syari bilang bayi nya kepanasan didalem gak hubungan nya woyyyy otak jempol gak singkron sih iya nulis komentar\n",
            "\n",
            "stemming:\n",
            "tolol gak hubung nya gugur pakai hijab syar bilang bayi nya panas dalem gak hubung nya woyyyy otak jempol gak singkron sih iya nulis komentar\n",
            "\n",
            "tokenizing:\n",
            "['tolol', 'gak', 'hubung', 'nya', 'gugur', 'pakai', 'hijab', 'syar', 'bilang', 'bayi', 'nya', 'panas', 'dalem', 'gak', 'hubung', 'nya', 'woyyyy', 'otak', 'jempol', 'gak', 'singkron', 'sih', 'iya', 'nulis', 'komentar']\n"
          ]
        }
      ],
      "source": [
        "# contoh preprocessing\n",
        "text = data['Tweet'][0]\n",
        "print('original text:\\n' + text)\n",
        "cleantext = cleaning_text(text)\n",
        "print('\\nremove punctuation:\\n' + cleantext)\n",
        "cleantext = remove_slang_akronim(cleantext)\n",
        "print('\\nremove slang:\\n' + cleantext)\n",
        "cleantext = remove_stopword(cleantext)\n",
        "print('\\nremove stopword:\\n' + cleantext)\n",
        "cleantext = stemming_and_lemmatization(cleantext)\n",
        "print('\\nstemming:\\n' + cleantext)\n",
        "cleantext = tokenize(cleantext)\n",
        "print('\\ntokenizing:')\n",
        "print(cleantext)"
      ],
      "metadata": {
        "id": "e-cUXTSeGdux",
        "outputId": "bb3b71be-8421-49f6-fb57-7125909de8b1"
      }
    },
    {
      "cell_type": "code",
      "execution_count": null,
      "outputs": [],
      "source": [
        "preprocessed_data = data.copy()\n",
        "preprocessed_data['Tweet'] = data['Tweet'].map(preprocess)"
      ],
      "metadata": {
        "id": "qKac3Jk-Gdux"
      }
    },
    {
      "cell_type": "markdown",
      "source": [
        "### Training hingga Akurasi"
      ],
      "metadata": {
        "id": "3_Cl3bK9HdS9"
      }
    },
    {
      "cell_type": "code",
      "execution_count": null,
      "outputs": [
        {
          "data": {
            "text/plain": "((540,), (540,), (60,), (60,))"
          },
          "execution_count": 10,
          "metadata": {},
          "output_type": "execute_result"
        }
      ],
      "source": [
        "# split test and train\n",
        "x = preprocessed_data['Tweet']\n",
        "y = preprocessed_data['Sentiment']\n",
        "\n",
        "# mapping, negative = 0, positive = 1\n",
        "y = y.map({'negative':0, 'positive':1})\n",
        "\n",
        "train_x, test_x, train_y, test_y = train_test_split(x, y,\n",
        "                                                    test_size=0.1,\n",
        "                                                    stratify=y,\n",
        "                                                    random_state=2021)\n",
        "\n",
        "train_x.shape, train_y.shape, test_x.shape, test_y.shape"
      ],
      "metadata": {
        "id": "LRcv17BvGdux",
        "outputId": "2977ee17-a404-4f5d-88ac-6ddb9e4f2967"
      }
    },
    {
      "cell_type": "code",
      "execution_count": null,
      "outputs": [],
      "source": [
        "def build_freqs(tweets, ys):\n",
        "    # Convert np array to list since zip needs an iterable.\n",
        "    # The squeeze is necessary or the list ends up with one element.\n",
        "    # Also note that this is just a NOP if ys is already a list.\n",
        "    yslist = np.squeeze(ys).tolist()\n",
        "\n",
        "    # Start with an empty dictionary and populate it by looping over all tweets\n",
        "    # and over all processed words in each tweet.\n",
        "    freqs = {}\n",
        "    for y, tweet in zip(yslist, tweets):\n",
        "        for word in tweet:\n",
        "            pair = (word, y)\n",
        "            if pair in freqs:\n",
        "                freqs[pair] += 1\n",
        "            else:\n",
        "                freqs[pair] = 1\n",
        "\n",
        "    return freqs"
      ],
      "metadata": {
        "id": "5mwt0zmWGdux"
      }
    },
    {
      "cell_type": "code",
      "execution_count": null,
      "outputs": [
        {
          "data": {
            "text/plain": "{('film', 0): 109,\n ('aneh', 0): 5,\n ('ajaa', 0): 1,\n ('gamau', 0): 1,\n ('berekspektasi', 0): 2,\n ('sih', 0): 24,\n ('angkat', 0): 2,\n ('dr', 0): 12,\n ('buku', 0): 3,\n ('kecewa', 0): 22,\n ('nonton', 0): 38,\n ('nya', 0): 63,\n ('bikin', 0): 17,\n ('derita', 0): 1,\n ('1', 0): 3,\n ('cium', 0): 4,\n ('dpn', 0): 1,\n ('orang', 0): 69,\n ('mantri', 0): 9,\n ('hutan', 0): 9,\n ('lurah', 0): 9,\n ('kecuali', 0): 1,\n ('mabok', 0): 1,\n ('gak', 0): 48,\n ('2', 0): 3,\n ('teman', 0): 11,\n ('helooow', 0): 1,\n ('libat', 0): 1,\n ('bibir', 0): 3,\n ('coba', 0): 4,\n ('bayangin', 0): 1,\n ('sanggup', 0): 1,\n ('lbh', 0): 3,\n ('dasar', 0): 13,\n ('laku', 0): 13,\n ('kids', 0): 2,\n ('jaman', 0): 8,\n ('now', 0): 5,\n ('emg', 0): 7,\n ('bego', 0): 13,\n ('banyak', 0): 8,\n ('micin', 0): 3,\n ('lho', 0): 2,\n ('yah', 0): 7,\n ('sudah', 0): 1,\n ('hidup', 0): 9,\n ('singkat', 0): 2,\n ('dihabisken', 0): 1,\n ('tonton', 0): 10,\n ('jelek', 0): 30,\n ('nonton', 1): 39,\n ('the', 1): 17,\n ('teman', 1): 11,\n ('pilih', 1): 6,\n ('film', 1): 96,\n ('action', 1): 1,\n ('seru', 1): 5,\n ('cocok', 1): 6,\n ('nemenin', 1): 1,\n ('pas', 1): 9,\n ('long', 1): 1,\n ('weekend', 1): 1,\n ('aduh', 0): 5,\n ('ribet', 0): 1,\n ('banget', 0): 39,\n ('anak', 0): 36,\n ('perempuan', 0): 19,\n ('contohin', 0): 1,\n ('becus', 0): 16,\n ('amit', 0): 6,\n ('baru', 0): 1,\n ('conan', 0): 1,\n ('kali', 0): 10,\n ('gk', 0): 6,\n ('spektakuler', 0): 1,\n ('openingnya', 0): 1,\n ('hancurin', 0): 1,\n ('gedung', 0): 1,\n ('cewek', 0): 7,\n ('bgni', 0): 2,\n ('hrsnya', 0): 2,\n ('gosong', 0): 1,\n ('abu', 0): 1,\n ('bakar', 0): 1,\n ('pabrik', 0): 1,\n ('viral', 0): 1,\n ('kemarin', 0): 5,\n ('tu', 0): 12,\n ('bnr2', 0): 1,\n ('slain', 0): 1,\n ('nggak', 0): 49,\n ('brguna', 0): 1,\n ('gda', 0): 1,\n ('otak', 0): 15,\n ('cm', 0): 1,\n ('modal', 0): 1,\n ('ngangkang', 0): 1,\n ('gebet', 0): 1,\n ('laki', 0): 17,\n ('bangga', 0): 1,\n ('ngomong-ngomong', 0): 2,\n ('instastory', 0): 2,\n ('nyindir', 0): 3,\n ('bin', 0): 1,\n ('tua', 0): 3,\n ('mah', 0): 11,\n ('ehhh', 0): 1,\n ('at', 0): 1,\n ('least', 0): 1,\n ('biar', 0): 14,\n ('prewi', 0): 1,\n ('cuii', 0): 1,\n ('emak', 0): 3,\n ('bukti', 0): 2,\n ('smua', 0): 3,\n ('profesional', 0): 1,\n ('emaknya', 0): 1,\n ('drpd', 0): 4,\n ('bapak', 0): 2,\n ('m', 1): 1,\n ('mbak', 1): 28,\n ('nggak', 1): 34,\n ('benci', 1): 2,\n ('nikmir', 1): 1,\n ('salut', 1): 9,\n ('munafik', 1): 1,\n ('artis', 1): 13,\n ('maaf', 1): 2,\n ('image', 1): 1,\n ('dpan', 1): 1,\n ('sok', 1): 3,\n ('aniaya', 1): 1,\n ('jual', 1): 1,\n ('air', 1): 2,\n ('mata', 1): 3,\n ('nikita', 1): 1,\n ('real', 1): 1,\n ('sygnya', 1): 1,\n ('msyarakat', 1): 1,\n ('cendrung', 1): 1,\n ('superfisial', 1): 1,\n ('bagussss', 1): 2,\n ('dandan', 1): 2,\n ('natural', 1): 3,\n ('permak', 1): 2,\n ('kayak', 1): 2,\n ('anak', 1): 29,\n ('jaman', 1): 5,\n ('now', 1): 4,\n ('naruto', 0): 2,\n ('bodoh', 0): 12,\n ('ke8', 0): 1,\n ('tertawa', 0): 5,\n ('berat', 0): 1,\n ('power', 0): 1,\n ('rangers', 0): 1,\n ('bawah', 0): 1,\n ('ekspektasi', 0): 3,\n ('ashanti', 1): 3,\n ('bunda', 1): 4,\n ('best', 1): 3,\n ('slalu', 1): 5,\n ('belainsupport', 1): 1,\n ('mskipun', 1): 2,\n ('kndung', 1): 1,\n ('suka', 1): 21,\n ('banget', 1): 62,\n ('sm', 1): 13,\n ('pidatox', 1): 1,\n ('dy', 1): 8,\n ('pembawaanx', 1): 1,\n ('bgtu', 1): 2,\n ('elegan', 1): 1,\n ('brwibawah', 1): 1,\n ('pntas', 1): 1,\n ('mmg', 1): 1,\n ('mdptkansalut', 1): 1,\n ('keren', 1): 32,\n ('main', 1): 4,\n ('gembira', 1): 1,\n ('tonton', 1): 20,\n ('menang', 1): 7,\n ('sebenarnye', 0): 1,\n ('cocok', 0): 4,\n ('enji', 0): 7,\n ('att', 0): 9,\n ('gateeeel', 0): 1,\n ('hahah', 0): 1,\n ('pantesan', 0): 1,\n ('si', 0): 36,\n ('tongtong', 0): 1,\n ('temu', 0): 2,\n ('udh', 0): 18,\n ('hukum', 0): 3,\n ('alam', 0): 1,\n ('jodoh', 0): 1,\n ('cermin', 0): 2,\n ('entong', 0): 1,\n ('bekaca', 0): 1,\n ('sadar', 0): 2,\n ('teryata', 0): 1,\n ('m', 0): 2,\n ('tetep', 0): 4,\n ('tahan', 0): 1,\n ('skrg', 0): 9,\n ('mlh', 0): 2,\n ('guatelnye', 0): 1,\n ('hah', 0): 1,\n ('kartini', 0): 6,\n ('menang', 0): 1,\n ('main', 0): 5,\n ('kelas', 0): 6,\n ('nama', 0): 9,\n ('ceritany', 0): 1,\n ('riset', 0): 1,\n ('balik', 0): 1,\n ('novel', 0): 5,\n ('sesungguhny', 0): 1,\n ('campur', 0): 1,\n ('tangan', 0): 1,\n ('produser', 0): 1,\n ('sok', 0): 14,\n ('embel2', 0): 1,\n ('jual', 0): 3,\n ('takut', 0): 3,\n ('danur', 0): 5,\n ('sesuai', 0): 3,\n ('ekspetasi', 0): 1,\n ('mikir', 0): 3,\n ('serius', 0): 3,\n ('hadewwwww', 0): 1,\n ('permpuan', 0): 2,\n ('lgsakit', 0): 1,\n ('jiwaknp', 0): 1,\n ('peran', 0): 1,\n ('utama', 0): 1,\n ('hantu', 0): 1,\n ('jeruk', 0): 1,\n ('purutky', 0): 1,\n ('khabis', 0): 1,\n ('stok', 0): 1,\n ('artis', 0): 26,\n ('hangout', 0): 2,\n ('kecewaa', 0): 2,\n ('moga', 1): 33,\n ('putus', 1): 4,\n ('iya', 1): 42,\n ('kakak', 1): 6,\n ('bella', 1): 4,\n ('bahagia', 1): 17,\n ('tuh', 1): 4,\n ('mantri', 1): 2,\n ('hutan', 1): 2,\n ('lurah', 1): 3,\n ('wajib', 1): 4,\n ('sayang', 1): 10,\n ('orang', 1): 16,\n ('tua', 1): 7,\n ('sahabat', 1): 4,\n ('creatif', 1): 1,\n ('cinta', 1): 11,\n ('bebas', 1): 1,\n ('kereen', 1): 2,\n ('kak', 1): 8,\n ('busuk', 0): 5,\n ('dungu', 0): 1,\n ('rusak', 0): 5,\n ('bhineka', 0): 1,\n ('comment', 0): 2,\n ('lihat', 0): 12,\n ('guna', 0): 1,\n ('medsos', 0): 1,\n ('bunyi', 0): 1,\n ('situ', 0): 5,\n ('sehat', 0): 1,\n ('pakai', 0): 17,\n ('hijab', 0): 2,\n ('mas', 0): 2,\n ('nyinyir', 0): 6,\n ('lucu', 1): 7,\n ('ganteng', 1): 14,\n ('parah', 1): 5,\n ('gede', 1): 3,\n ('pinternya', 1): 1,\n ('ketulungan', 1): 1,\n ('salam', 1): 5,\n ('hormat', 1): 2,\n ('bu', 1): 7,\n ('bagus', 1): 31,\n ('cari', 1): 5,\n ('ilmu', 1): 1,\n ('mana', 1): 3,\n ('suami', 1): 17,\n ('didik', 1): 3,\n ('agnes', 1): 4,\n ('lagu', 1): 8,\n ('ya', 1): 6,\n ('nyanyi', 1): 8,\n ('santai', 1): 2,\n ('asyik', 1): 1,\n ('malu', 0): 3,\n ('buk', 0): 1,\n ('bicara', 0): 10,\n ('pelakor', 0): 18,\n ('emang', 0): 11,\n ('ibuk', 0): 1,\n ('iya', 0): 57,\n ('ayu', 0): 9,\n ('wkwkwkwkwk', 0): 1,\n ('awas', 0): 1,\n ('rumah', 0): 6,\n ('tangga', 0): 4,\n ('dimasukin', 0): 1,\n ('norak', 0): 7,\n ('sihkayak', 0): 1,\n ('malunyakl', 0): 1,\n ('bilang', 0): 19,\n ('serah', 0): 1,\n ('diaya', 0): 1,\n ('udahsimpan', 0): 1,\n ('fotonyagak', 0): 1,\n ('bagi', 0): 1,\n ('semua', 0): 1,\n ('pamer', 0): 2,\n ('kemanaresikolah', 0): 1,\n ('oranginsecure', 0): 1,\n ('bangetkudu', 0): 1,\n ('pamer2', 0): 1,\n ('gitu', 0): 12,\n ('erti', 0): 2,\n ('mbak', 0): 15,\n ('py', 0): 2,\n ('pacar', 0): 5,\n ('dipamer2', 0): 1,\n ('pantatnyakampung', 0): 1,\n ('bela', 1): 1,\n ('nikah', 1): 12,\n ('dasar', 1): 4,\n ('agama', 1): 1,\n ('utama', 1): 2,\n ('biar', 1): 6,\n ('laki2nya', 1): 1,\n ('laki2', 1): 2,\n ('kaya', 1): 12,\n ('raya', 1): 1,\n ('nikahin', 1): 1,\n ('caption', 1): 1,\n ('ibudan', 1): 1,\n ('kali', 1): 9,\n ('baca', 1): 4,\n ('captionnya', 1): 1,\n ('langsung', 1): 6,\n ('ajar', 1): 8,\n ('bahasa', 1): 2,\n ('inggris', 1): 1,\n ('terima', 1): 3,\n ('kasih', 1): 6,\n ('personal', 1): 1,\n ('kenal', 1): 6,\n ('anie', 1): 1,\n ('betapa', 1): 2,\n ('bangga', 1): 13,\n ('cucu', 1): 5,\n ('generasi', 1): 4,\n ('bangsa', 1): 4,\n ('mandiri', 1): 1,\n ('unggul', 1): 1,\n ('sehat', 1): 14,\n ('keluarga', 1): 22,\n ('engkau', 1): 1,\n ('tebar', 1): 1,\n ('buried', 0): 1,\n ('budget', 0): 1,\n ('murah', 0): 5,\n ('tingkat', 0): 1,\n ('depresi', 0): 1,\n ('tinggi', 0): 1,\n ('indonesia', 0): 4,\n ('bioskop', 0): 2,\n ('critical', 0): 2,\n ('eleven', 0): 2,\n ('gambar', 0): 1,\n ('ale', 0): 2,\n ('anya', 0): 2,\n ('lemah', 0): 2,\n ('ziarah', 1): 4,\n ('muat', 1): 1,\n ('lap', 1): 1,\n ('hidup', 1): 6,\n ('sejarah', 1): 4,\n ('misteri', 1): 1,\n ('simak', 1): 1,\n ('syudah', 1): 1,\n ('cantik', 1): 31,\n ('heboh', 1): 1,\n ('buat', 1): 2,\n ('makeup', 1): 3,\n ('simple', 1): 2,\n ('gitu', 1): 4,\n ('pesona', 1): 1,\n ('bikin', 1): 15,\n ('hamish', 1): 4,\n ('klepek2', 1): 1,\n ('alhamdulillah', 1): 4,\n ('kidz', 1): 1,\n ('zaman', 1): 1,\n ('niw', 1): 1,\n ('karya', 1): 5,\n ('wajar', 1): 1,\n ('umur', 1): 9,\n ('jedun', 0): 2,\n ('hormat', 0): 2,\n ('cerdas', 0): 1,\n ('cari', 0): 6,\n ('suami', 0): 12,\n ('sah', 0): 7,\n ('hindar', 0): 1,\n ('narkotika', 0): 1,\n ('psikotropika', 0): 1,\n ('obat', 0): 1,\n ('larang', 0): 3,\n ('jaga', 0): 3,\n ('keluarga', 0): 7,\n ('moga', 0): 6,\n ('kayak', 0): 7,\n ('dunia', 0): 5,\n ('kampung', 0): 13,\n ('numpang', 0): 2,\n ('tenar', 0): 5,\n ('gara2', 0): 1,\n ('muka', 0): 11,\n ('katy', 0): 1,\n ('perry', 0): 1,\n ('doang', 0): 3,\n ('dewi', 1): 4,\n ('sabar', 1): 6,\n ('keliahatannya', 1): 1,\n ('langgeng', 1): 7,\n ('respect', 0): 1,\n ('dian', 0): 1,\n ('sastro', 0): 1,\n ('hambar', 0): 6,\n ('mutu', 0): 3,\n ('salfok', 0): 1,\n ('sumpah', 0): 2,\n ('oplas', 0): 3,\n ('model', 0): 2,\n ('failed', 0): 1,\n ('jijik', 0): 12,\n ('liat', 0): 3,\n ('suer', 0): 1,\n ('deh', 0): 19,\n ('minceeee', 0): 1,\n ('ngefans', 0): 1,\n ('kagum', 0): 1,\n ('dehtapi', 0): 1,\n ('jelekbuluk', 0): 1,\n ('hermansyah', 0): 1,\n ('kutuk', 0): 1,\n ('timpa', 0): 1,\n ('bunda', 0): 2,\n ('kd', 0): 3,\n ('untung', 0): 2,\n ('allah', 0): 4,\n ('swt', 0): 2,\n ('ganti', 0): 1,\n ('amora', 0): 3,\n ('adik', 0): 2,\n ('nyagemezzzzzzz', 0): 1,\n ('class', 0): 1,\n ('joget', 0): 1,\n ('ngakakkk', 0): 1,\n ('anjirrrr', 0): 1,\n ('yaela', 0): 1,\n ('muljem', 0): 3,\n ('kyak', 0): 2,\n ('stu', 0): 1,\n ('bner', 0): 1,\n ('inget', 0): 1,\n ('ngrusak', 0): 1,\n ('kbhagian', 0): 1,\n ('prtahanin', 0): 1,\n ('ya', 0): 6,\n ('gin', 0): 5,\n ('salah', 1): 9,\n ('hasil', 1): 7,\n ('luarbiasa', 1): 1,\n ('aneh', 1): 1,\n ('critical', 1): 3,\n ('acclaim', 1): 1,\n ('tidur', 0): 3,\n ('diharepin', 0): 1,\n ('hufy', 0): 1,\n ('ngatain', 0): 4,\n ('netijen', 0): 2,\n ('goblog', 0): 2,\n ('masyako', 0): 2,\n ('banting', 1): 1,\n ('tulang', 1): 1,\n ('keluargayg', 1): 1,\n ('duduk', 1): 1,\n ('bangku', 1): 1,\n ('empukpakai', 1): 1,\n ('ac', 1): 1,\n ('merampokyg', 1): 1,\n ('milih', 1): 2,\n ('rakyat', 1): 1,\n ('jelata', 1): 1,\n ('nya', 1): 30,\n ('bsok', 1): 1,\n ('bangun', 1): 1,\n ('dewasa', 1): 4,\n ('jodoh', 1): 7,\n ('cakep', 1): 3,\n ('fahri', 1): 1,\n ('yesss', 1): 1,\n ('mami', 1): 5,\n ('cuco', 1): 1,\n ('deh', 1): 17,\n ('babang', 1): 2,\n ('unchhh', 1): 1,\n ('lope', 1): 1,\n ('semangat', 1): 5,\n ('mebangun', 1): 1,\n ('indonesia', 1): 17,\n ('maju', 1): 2,\n ('jokowi', 1): 1,\n ('wkwkwkwk', 0): 2,\n ('tuhan', 0): 5,\n ('ku', 0): 2,\n ('munafik', 0): 7,\n ('suci', 0): 4,\n ('mulan', 0): 4,\n ('jamela', 0): 1,\n ('ting2', 0): 1,\n ('ngikuti', 0): 1,\n ('jejak', 0): 1,\n ('a', 0): 2,\n ('wkwkwk', 0): 2,\n ('oalaahhh', 0): 1,\n ('kegatelan', 0): 3,\n ('kucing', 0): 1,\n ('ksh', 0): 3,\n ('ikan', 0): 1,\n ('jaer', 0): 3,\n ('gratis', 0): 1,\n ('kga', 0): 2,\n ('nolak', 0): 1,\n ('wkwkkwkw', 0): 1,\n ('homo', 0): 2,\n ('rumit', 0): 1,\n ('filmfilm', 1): 1,\n ('lho', 1): 2,\n ('bareng', 1): 3,\n ('yuk', 1): 2,\n ('kualitas', 1): 2,\n ('percaya', 1): 2,\n ('nik', 1): 2,\n ('jujur', 1): 3,\n ('hebat', 1): 4,\n ('kartini', 1): 17,\n ('nasional', 1): 1,\n ('recommended', 1): 2,\n ('campur', 1): 1,\n ('aduk', 1): 1,\n ('banyak', 1): 2,\n ('nangis2nya', 1): 1,\n ('selera', 1): 1,\n ('kagum', 1): 2,\n ('kereeen', 1): 2,\n ('nihenak', 1): 1,\n ('didengernyagak', 1): 1,\n ('bosen', 1): 2,\n ('puter', 1): 1,\n ('ulang2daripada', 1): 1,\n ('lipsing2', 1): 1,\n ('gajelas', 1): 1,\n ('joget2', 1): 1,\n ('gtu', 1): 3,\n ('anjing', 0): 5,\n ('tuh', 0): 11,\n ('cowok', 0): 6,\n ('berani', 0): 5,\n ('one', 0): 2,\n ('by', 0): 1,\n ('cowok2', 0): 1,\n ('casing', 0): 1,\n ('doank', 0): 1,\n ('nyali', 0): 1,\n ('lebih2', 0): 1,\n ('banci', 0): 14,\n ('the', 0): 7,\n ('mummy', 0): 5,\n ('bagus', 0): 13,\n ('sesal', 0): 2,\n ('mb', 1): 6,\n ('depe', 1): 7,\n ('kepala', 1): 2,\n ('biro', 1): 2,\n ('masnymb', 1): 1,\n ('ibu', 1): 2,\n ('ngefans', 1): 1,\n ('mas', 1): 7,\n ('saiful', 1): 1,\n ('smpe2', 1): 1,\n ('blng', 1): 1,\n ('pembntuny', 1): 1,\n ('gapapala', 1): 1,\n ('ktnypgn', 1): 1,\n ('ketemu', 1): 2,\n ('dijambi', 1): 1,\n ('belepotan', 0): 2,\n ('gaya', 0): 2,\n ('isi', 0): 4,\n ('nyesel', 0): 4,\n ('respect', 1): 1,\n ('istri', 1): 14,\n ('anak2', 1): 3,\n ('tunggu', 1): 2,\n ('rumah', 1): 6,\n ('insya', 1): 3,\n ('allah', 1): 18,\n ('swt', 1): 3,\n ('jaga', 1): 5,\n ('murid2ku', 1): 1,\n ('ngajar', 1): 1,\n ('sekolah', 1): 4,\n ('internasional', 1): 2,\n ('mihil', 1): 1,\n ('cantik2', 1): 1,\n ('si', 1): 7,\n ('ramah', 1): 2,\n ('bngt', 1): 4,\n ('sepupu', 1): 1,\n ('uang', 1): 1,\n ('masuk', 1): 1,\n ('70', 1): 1,\n ('jtan', 1): 1,\n ('lbhsiswa', 1): 1,\n ('g', 1): 2,\n ('skrg', 1): 6,\n ('mhklo', 1): 1,\n ('mh', 1): 1,\n ('oh', 0): 1,\n ('harga', 0): 5,\n ('karya', 0): 4,\n ('penganten', 0): 1,\n ('kenyang', 0): 1,\n ('ampe', 0): 2,\n ('kembung', 0): 1,\n ('perut', 0): 1,\n ('suara', 1): 15,\n ('tinggal', 1): 3,\n ('poles', 1): 1,\n ('dikit', 1): 2,\n ('sinar', 1): 1,\n ('baik', 1): 7,\n ('putar', 1): 1,\n ('bioskop', 1): 5,\n ('18', 1): 2,\n ('mei', 1): 4,\n ('2017', 1): 4,\n ('catat', 1): 1,\n ('hape', 1): 1,\n ('pertama', 1): 2,\n ('pelakor2', 0): 1,\n ('kena', 0): 1,\n ('karma', 0): 4,\n ('tinggal', 0): 2,\n ('istri', 0): 11,\n ('bwrjuang', 0): 1,\n ('nol', 0): 2,\n ('sukses', 0): 1,\n ('selingkuh', 0): 1,\n ('kuasa', 0): 1,\n ('dr', 1): 7,\n ('asli', 1): 7,\n ('swett', 1): 2,\n ('liat', 1): 5,\n ('haaaaaaa', 1): 1,\n ('so', 1): 2,\n ('smg', 1): 3,\n ('sllu', 1): 2,\n ('baju', 1): 3,\n ('anti', 1): 1,\n ('weding', 1): 1,\n ('slamat', 1): 1,\n ('koh', 1): 1,\n ('ernes', 1): 1,\n ('cek', 1): 1,\n ('toko', 1): 1,\n ('belah', 1): 2,\n ('kuat', 1): 2,\n ('agam', 1): 1,\n ('seragam', 1): 2,\n ('manis', 1): 2,\n ('cewek', 1): 5,\n ('aja', 1): 2,\n ('adegan', 0): 1,\n ('potong', 0): 1,\n ('kaget', 0): 1,\n ('kereeeeennnn', 1): 1,\n ('pokok', 1): 2,\n ('susah', 1): 3,\n ('loh', 1): 4,\n ('gileee', 1): 1,\n ('suaraaanyaa', 1): 1,\n ('sukak', 1): 5,\n ('eh', 0): 7,\n ('jongos', 0): 2,\n ('cba', 0): 1,\n ('duluan', 0): 1,\n ('sm', 0): 14,\n ('nyonyiah', 0): 4,\n ('gembar', 0): 1,\n ('gembor', 0): 1,\n ('nikah', 0): 13,\n ('ada', 0): 1,\n ('aku', 0): 3,\n ('udeh', 0): 2,\n ('tetehlu', 0): 2,\n ('lonte', 0): 9,\n ('eksperimen', 0): 1,\n ('wanita', 0): 5,\n ('tuna', 0): 1,\n ('susila', 0): 1,\n ('brojol', 0): 2,\n ('siri', 0): 1,\n ('hamidun', 0): 1,\n ('sapeak', 0): 1,\n ('ilegal', 0): 1,\n ('dibilng', 0): 1,\n ('fitna', 0): 1,\n ('keji', 0): 1,\n ('tolak', 0): 1,\n ('lupa', 0): 2,\n ('xixix', 0): 1,\n ('elo', 0): 1,\n ('papan', 0): 2,\n ('blenyek', 0): 1,\n ('belagu', 0): 1,\n ('populer', 0): 1,\n ('sekalu', 0): 1,\n ('hahaha', 0): 3,\n ('netizen', 0): 3,\n ('kontra', 0): 1,\n ('postingan', 0): 1,\n ('via', 0): 7,\n ('bakajaer', 0): 1,\n ('mbamas', 0): 1,\n ('ih', 0): 3,\n ('piara', 0): 1,\n ('suaranyatinggal', 1): 1,\n ('cantikviralkann', 1): 1,\n ('smnjk', 1): 1,\n ('hbs', 1): 1,\n ('aura', 1): 2,\n ('keluarr', 1): 1,\n ('kliatan', 1): 3,\n ('nia', 1): 3,\n ('tulusss', 1): 1,\n ('ajar', 0): 4,\n ('sejarah', 0): 1,\n ('konflik', 0): 1,\n ('tampil', 0): 2,\n ('kaya', 0): 18,\n ('penuh', 0): 4,\n ('please', 0): 1,\n ('bela', 0): 3,\n ('pelakorini', 0): 1,\n ('uda', 0): 2,\n ('tega', 0): 2,\n ('recut', 0): 1,\n ('sahabat', 0): 1,\n ('sendiridia', 0): 1,\n ('jalan', 0): 2,\n ('sanksi', 0): 1,\n ('sosial', 0): 2,\n ('valakor', 0): 2,\n ('mesti', 0): 1,\n ('benci', 0): 6,\n ('indonesiabiar', 0): 1,\n ('musnah', 0): 2,\n ('sem', 0): 1,\n ('before', 0): 1,\n ('and', 0): 2,\n ('after', 0): 2,\n ('pasca', 0): 1,\n ('ngefek', 0): 1,\n ('rem', 0): 2,\n ('mukanyaahahahhaha', 0): 1,\n ('abiss', 1): 1,\n ('bang', 1): 9,\n ('romance', 1): 1,\n ('sedih', 1): 7,\n ('ingat', 0): 1,\n ('beda', 0): 4,\n ('ngajak', 0): 1,\n ('black', 0): 1,\n ('bulter', 0): 1,\n ('pasang', 1): 10,\n ('gigi', 1): 3,\n ('raffi', 1): 1,\n ('sakinnah', 1): 1,\n ('mawaddah', 1): 2,\n ('warrahmah', 1): 1,\n ('pihak2', 1): 1,\n ('pisah', 1): 4,\n ('maut', 1): 2,\n ('amiin', 1): 2,\n ('ane', 0): 2,\n ('nungguin', 0): 1,\n ('idam', 1): 2,\n ('cowo', 1): 2,\n ('najis', 0): 2,\n ('bumi', 0): 1,\n ('yah', 1): 1,\n ('nek', 1): 1,\n ('muda', 1): 8,\n ('mashaallahhh', 1): 1,\n ('gwa', 0): 1,\n ('kasar', 0): 1,\n ('heran', 0): 3,\n ('anv', 0): 1,\n ('pesbur', 0): 1,\n ('ny', 0): 9,\n ('bederet', 0): 1,\n ('skandal', 0): 1,\n ('bertubi2', 0): 1,\n ('tembok', 0): 1,\n ('faedah', 0): 1,\n ('acara', 0): 2,\n ('manusia', 0): 11,\n ('kardus', 0): 1,\n ('sebnarnya', 0): 1,\n ('lumyan', 0): 1,\n ('bgussayangnya', 0): 1,\n ('aktor', 0): 3,\n ('aktris', 0): 1,\n ('rusia', 0): 1,\n ('trsa', 0): 1,\n ('makan', 0): 3,\n ('tahi', 0): 4,\n ('giniotaknya', 0): 1,\n ('berfikir', 0): 1,\n ('positifdari', 0): 1,\n ('bermoraldasar', 0): 1,\n ('kaum2', 0): 1,\n ('laknat', 0): 5,\n ('kbanyakan', 0): 1,\n ('burit', 0): 1,\n ('stresmanusia', 0): 1,\n ('jumpa', 0): 1,\n ('anjingcuma', 0): 1,\n ('ketemu', 0): 3,\n ('enakk', 1): 2,\n ('musik', 1): 1,\n ('nyaa', 1): 4,\n ('lagi', 1): 1,\n ('lhatt', 1): 1,\n ('dance', 1): 1,\n ('nyamaann', 1): 1,\n ('kayaa', 1): 1,\n ('dada', 0): 3,\n ('abal', 0): 4,\n ('enggk', 0): 4,\n ('layar', 0): 3,\n ('kacaudh', 0): 2,\n ('duit', 0): 2,\n ('kelompok', 0): 4,\n ('remaja', 0): 4,\n ('miskinjadi', 0): 2,\n ('dukun', 0): 2,\n ('elmu', 0): 2,\n ('pelet', 0): 2,\n ('rebut', 0): 6,\n ('trust', 1): 1,\n ('me', 1): 1,\n ('tipe', 1): 1,\n ('nyaman', 1): 1,\n ('nikmat', 1): 3,\n ('gak', 1): 21,\n ('sanasini', 1): 1,\n ('beda', 1): 4,\n ('tambah', 1): 1,\n ('favorite', 1): 1,\n ('buku', 1): 2,\n ('kecewa', 1): 1,\n ('sama2', 1): 2,\n ('gila', 0): 6,\n ('britney', 0): 1,\n ('ever', 0): 1,\n ('parah', 0): 11,\n ('habis', 0): 7,\n ('5', 1): 2,\n ('horor', 1): 4,\n ('dapat', 1): 2,\n ('10', 1): 2,\n ('tiket', 1): 1,\n ('kisah', 1): 3,\n ('jevin', 1): 12,\n ('radhini', 1): 5,\n ('rini', 1): 7,\n ('1', 1): 2,\n ('jalan', 1): 3,\n ('ngikutin', 1): 1,\n ('live', 1): 1,\n ('remix', 1): 3,\n ('bicara', 1): 3,\n ('pacar', 1): 2,\n ('nunjuk', 1): 1,\n ('luk', 1): 1,\n ('erat', 1): 1,\n ('backstage', 1): 1,\n ('lolos', 1): 1,\n ('final', 1): 2,\n ('gentle', 1): 1,\n ('tulus', 1): 1,\n ('maha', 1): 1,\n ('pembolakbalik', 1): 1,\n ('hati', 1): 13,\n ('15', 1): 3,\n ('pcrn', 1): 3,\n ('september', 1): 1,\n ('dipasangin', 1): 1,\n ('des', 1): 1,\n ('jan', 1): 1,\n ('16', 1): 3,\n ('feb', 1): 2,\n ('april', 1): 2,\n ('lamar', 1): 1,\n ('17', 1): 2,\n ('tunang', 1): 1,\n ('works', 1): 1,\n ('in', 1): 2,\n ('many', 1): 1,\n ('ways', 1): 1,\n ('allahs', 1): 1,\n ('plan', 1): 2,\n ('is', 1): 1,\n ('better', 1): 1,\n ('than', 1): 1,\n ('our', 1): 1,\n ('dulunya', 1): 1,\n ('berfikiran', 1): 1,\n ('30', 1): 2,\n ('sangka', 1): 1,\n ('25', 1): 1,\n ('2', 1): 3,\n ('ngajakin', 1): 1,\n ('ah', 1): 2,\n ('wedding', 1): 1,\n ('soundwave', 1): 1,\n ('iyakm', 0): 1,\n ('bening', 0): 2,\n ('lewat', 0): 1,\n ('buluk', 0): 2,\n ('nelen', 0): 1,\n ('komen', 0): 5,\n ('surup', 0): 1,\n ('nunggu', 1): 3,\n ('tahun', 1): 1,\n ('flm', 1): 3,\n ('kentel', 1): 1,\n ('tokoh', 1): 1,\n ('barakallah', 1): 1,\n ('cucu2', 1): 3,\n ('sholeh', 1): 2,\n ('sholeha', 1): 1,\n ('kelg', 1): 1,\n ('cuman', 0): 4,\n ('goyang', 0): 3,\n ('yak', 0): 3,\n ('suara', 0): 6,\n ('engku', 1): 1,\n ('emran', 1): 2,\n ('masyaallah', 1): 2,\n ('anteng', 1): 1,\n ('nyanyang', 1): 1,\n ('senyum', 1): 3,\n ('cute', 1): 1,\n ('baper', 1): 1,\n ('dech', 1): 1,\n ('biadab', 0): 1,\n ('bully', 0): 1,\n ('mampusin', 0): 1,\n ('jeleklecekbantet', 0): 1,\n ('sela', 1): 1,\n ('apa', 1): 3,\n ('profesi', 1): 1,\n ('kau', 1): 1,\n ('juara', 1): 1,\n ('gojek', 1): 4,\n ('lacar', 1): 1,\n ('rejekimu', 1): 1,\n ('amiiin', 1): 1,\n ('sih', 1): 11,\n ('khawatir', 1): 1,\n ('lihat', 1): 8,\n ('adaptasi', 1): 3,\n ...}"
          },
          "execution_count": 12,
          "metadata": {},
          "output_type": "execute_result"
        }
      ],
      "source": [
        "# create vocabulary / dictionary frequencies\n",
        "freqs = build_freqs(train_x.tolist(), train_y.tolist())\n",
        "freqs"
      ],
      "metadata": {
        "id": "h7qBcxYJGduy",
        "outputId": "255473c6-3342-43c9-f28d-91f739e5a07c"
      }
    },
    {
      "cell_type": "code",
      "execution_count": null,
      "outputs": [],
      "source": [
        "def extract_features(tweet, freqs):\n",
        "    # 3 elements in the form of a 1 x 3 vector\n",
        "    x = np.zeros((1, 3))\n",
        "\n",
        "    #bias term is set to 1\n",
        "    x[0,0] = 1\n",
        "\n",
        "    # loop through each word in the list of words\n",
        "    for word in tweet:\n",
        "\n",
        "        # increment the word count for the positive label 1\n",
        "        x[0,1] += freqs.get((word, 1.),0)\n",
        "\n",
        "        # increment the word count for the negative label 0\n",
        "        x[0,2] += freqs.get((word, 0.),0)\n",
        "\n",
        "    assert(x.shape == (1, 3))\n",
        "    return x"
      ],
      "metadata": {
        "id": "zNFIKK1PGduy"
      }
    },
    {
      "cell_type": "code",
      "execution_count": null,
      "outputs": [
        {
          "name": "stdout",
          "output_type": "stream",
          "text": [
            "[[  1.  97. 115.]\n",
            " [  1. 118. 175.]\n",
            " [  1. 180. 228.]\n",
            " [  1. 171. 418.]\n",
            " [  1. 123. 162.]]\n"
          ]
        }
      ],
      "source": [
        "x_train = np.zeros((len(train_x), 3))\n",
        "for i in range(len(train_x)):\n",
        "    x_train[i, :]= extract_features(train_x.to_numpy()[i], freqs)\n",
        "\n",
        "print(x_train[:5])"
      ],
      "metadata": {
        "id": "leGNm7GeGduy",
        "outputId": "37c06016-2ad9-49b4-eb5e-33c7e6e1e7a2"
      }
    },
    {
      "cell_type": "code",
      "execution_count": null,
      "outputs": [],
      "source": [
        "# Gradient Descent\n",
        "def sigmoid(z):\n",
        "    # calculate the sigmoid of z\n",
        "    h = 1 / (1 + np.exp(-z))\n",
        "    return h\n",
        "\n",
        "def gradientDescent(x, y, theta, alpha, num_iters):\n",
        "    # get 'm', the number of rows in matrix x\n",
        "    m = x.shape[0]\n",
        "\n",
        "    for i in range(0, num_iters):\n",
        "\n",
        "        # get z, the dot product of x and theta\n",
        "        z = np.dot(x,theta)\n",
        "\n",
        "        # get the sigmoid of z\n",
        "        h = sigmoid(z)\n",
        "\n",
        "        # calculate the cost function\n",
        "        J = -1/m * (np.dot(y.transpose(), np.log(h)) + np.dot((1-y).transpose(),np.log(1-h)))\n",
        "\n",
        "        # update the weights theta\n",
        "        theta = theta - (alpha/m) * np.dot(x.transpose(),(h-y))\n",
        "\n",
        "    return float(J), theta"
      ],
      "metadata": {
        "id": "zZCV-rLTGduy"
      }
    },
    {
      "cell_type": "code",
      "execution_count": null,
      "outputs": [
        {
          "name": "stdout",
          "output_type": "stream",
          "text": [
            "The cost after training is 0.32163227.\n",
            "The resulting vector of weights is [0.00049203, 0.0620881, -0.05494092]\n"
          ]
        }
      ],
      "source": [
        "# training labels corresponding to X\n",
        "y_train = np.expand_dims(train_y.to_numpy(), axis=1)\n",
        "\n",
        "# Apply gradient descent\n",
        "init_theta = np.zeros((3, 1))\n",
        "init_alpha = 1e-4\n",
        "iter = 500\n",
        "\n",
        "J, theta = gradientDescent(x_train, y_train, init_theta, init_alpha, iter)\n",
        "\n",
        "print(f\"The cost after training is {J:.8f}.\")\n",
        "print(f\"The resulting vector of weights is {[round(t, 8) for t in np.squeeze(theta)]}\")"
      ],
      "metadata": {
        "id": "iKW2p03BGduz",
        "outputId": "11c3b58c-0867-4185-8539-5ff88dff1939"
      }
    },
    {
      "cell_type": "code",
      "execution_count": null,
      "outputs": [],
      "source": [
        "def predict_tweet(tweet, freqs, theta):\n",
        "    # extract the features of the tweet and store it into x\n",
        "    x = extract_features(tweet,freqs)\n",
        "\n",
        "    # make the prediction using x and theta\n",
        "    y_pred = sigmoid(np.dot(x,theta))\n",
        "\n",
        "    return y_pred"
      ],
      "metadata": {
        "id": "uMYkJ8mwGduz"
      }
    },
    {
      "cell_type": "code",
      "execution_count": null,
      "outputs": [],
      "source": [
        "y_hat = []\n",
        "for tweet in test_x:\n",
        "    # get the label prediction for the tweet\n",
        "    y_pred = predict_tweet(tweet, freqs, theta)\n",
        "\n",
        "    if y_pred > 0.5:\n",
        "        # append 1.0 to the list\n",
        "        y_hat.append(1)\n",
        "    else:\n",
        "        # append 0 to the list\n",
        "        y_hat.append(0)"
      ],
      "metadata": {
        "id": "dDFpoEJZGduz"
      }
    },
    {
      "cell_type": "code",
      "execution_count": null,
      "outputs": [
        {
          "name": "stdout",
          "output_type": "stream",
          "text": [
            "Logistic regression model's accuracy = 0.8333\n"
          ]
        }
      ],
      "source": [
        "# calculate accuracy\n",
        "accuracy = (y_hat==np.squeeze(test_y)).sum()/len(test_x)\n",
        "\n",
        "print(f\"Logistic regression model's accuracy = {accuracy:.4f}\")"
      ],
      "metadata": {
        "id": "ExQ-x_5MGduz",
        "outputId": "37f9e49a-3b23-4499-8431-109334a96f51"
      }
    },
    {
      "cell_type": "markdown",
      "source": [
        "### Testing Model"
      ],
      "metadata": {
        "id": "OftQc7ZkHsgK"
      }
    },
    {
      "cell_type": "code",
      "execution_count": null,
      "outputs": [],
      "source": [
        "def getPolarity(text):\n",
        "    return predict_tweet(preprocess(text), freqs, theta)\n",
        "\n",
        "def getAnalysis(score):\n",
        "    if score < 0.5:\n",
        "        return 'Negative'\n",
        "    else:\n",
        "        return 'Positive'\n",
        "\n",
        "def getPrediction(text):\n",
        "    polarity = getPolarity(text)\n",
        "    prediction = getAnalysis(polarity)\n",
        "    return prediction"
      ],
      "metadata": {
        "id": "rifgyeDAGduz"
      }
    },
    {
      "cell_type": "code",
      "execution_count": null,
      "outputs": [
        {
          "data": {
            "text/plain": "'Negative'"
          },
          "execution_count": 21,
          "metadata": {},
          "output_type": "execute_result"
        }
      ],
      "source": [
        "# predict single tweet\n",
        "tweet1 = 'aku benci kalian semua'\n",
        "getPrediction(tweet1)"
      ],
      "metadata": {
        "id": "nofhfbUyGdu0",
        "outputId": "83660ae7-74fc-4e56-8d4e-6dd1609f5c48"
      }
    },
    {
      "cell_type": "markdown",
      "source": [
        "### Testing Model dengan Twitter Data"
      ],
      "metadata": {
        "id": "P8hE6C1PHvgb"
      }
    },
    {
      "cell_type": "code",
      "execution_count": null,
      "outputs": [],
      "source": [
        "# Twitter key\n",
        "# Mohon digunakan dengan bijak\n",
        "consumerKey = 'FosPbDO1qjdUy4lJIpHGqRu6J'\n",
        "consumerSecret = 'u50oLz5zvrUBfmykzRiGBzgPDTxf7dwTTJFMoTDbRAoUWV1ANT'\n",
        "accessToken = '875758575959670784-TPp0E4sBIsSx7uxzzJVCkZt0eHE7jTE'\n",
        "accessTokenSecret = 'pzZLCss26ZYFSZTaWjRyWGu54TXSk8dGlV8d11AvQ7GKE'"
      ],
      "metadata": {
        "id": "S3xeiFA7Gdu0"
      }
    },
    {
      "cell_type": "code",
      "execution_count": null,
      "outputs": [],
      "source": [
        "authenticate = tweepy.OAuthHandler(consumerKey, consumerSecret)\n",
        "authenticate.set_access_token(accessToken, accessTokenSecret)\n",
        "api = tweepy.API(authenticate, wait_on_rate_limit = True)"
      ],
      "metadata": {
        "id": "e3-IAympGdu0"
      }
    },
    {
      "cell_type": "code",
      "execution_count": null,
      "outputs": [
        {
          "data": {
            "text/plain": "                                               Tweets\n0   Bocchi the rock adalah anime terbaik musim ini...\n1   RT @gihachii: rkgk bocchi\\n#ぼっち・ざ・ろっく https://...\n2   RT @pevellynee: mafuyu and bocchi! https://t.c...\n3   RT @pevellynee: mafuyu and bocchi! https://t.c...\n4   sedang\\nsedang bersyukur aku bukan fans berat ...\n5        @alicestruggles Bocchi, Kirishima, Yaeka 🥰🥰🥰\n6   grgr bocchi the rock beneran mau belajar gitar...\n7                     @BeepleSneep Bocchi gang strong\n8   @seikafv @animefess_ kak yg bocchi ngomong \"ak...\n9                           @Luksss84 Bocchi x Nijika\n10  RT @banthisworld: Nijika x Bocchi 😍\\n\"Kessoku ...\n11  RT @JPFBASE: *jpf ada rekomendasi anime mirip-...\n12  Evangelion LDL Fluid Bocchi-Chan!!! https://t....\n13   Ngl Holoro\\n\\nAnd bocchi https://t.co/2G2q1lJ45O\n14  bocchi mirip banget sama minato aqua wkwk kiku...\n15  @iwnht Ada chant Bocchi nggak? Dah lama nggak ...\n16  @alicestruggles Bocchi, dress up darling, spy ...\n17  RT @JPFBASE: *jpf ada rekomendasi anime mirip-...\n18                          @AmoebaLe Sangat Bocchi 🥺\n19   bocchi'ninki daha makul😭 https://t.co/eM9LGZBfQy\n20  RT @banthisworld: Nijika x Bocchi 😍\\n\"Kessoku ...\n21  Nijika x Bocchi 😍\\n\"Kessoku Band\" (literally)\\...\n22  WIP Hitori Gotou, Bocchi #BocchiTheRock https:...\n23  @ProZD Nijika, Ryo and Kita. Bocchi is practic...\n24                       @ProZD Hitori \"Bocchi\" Gotoh\n25  RT @Rodrigo02310421: #pinkuart\\nMiku pinku tie...\n26  #pinkuart\\nMiku pinku tiene similar al gotou h...\n27                 tqm bocchi https://t.co/MLT74unqJB\n28  @fakhrul_redza Comel nya\\n\\nBocchi The Rock kan?🤧\n29                     @artmachinebroke bocchi ! weh!\n30  @Guitar_Senpai Hitori Bocchi Maru Maru no Seik...\n31  RT @booniecake: Bocchi rkgk\\n#ぼっち・ざ・ろっく https:...\n32    Sebelum tidur satu episode bocchi dulu /dipukul\n33  @__Yuki48 ANJIR LAH W LIAT LG GAMBARNYA ITU AD...\n34     @KurumiAnzai Por qur profanan a la bocchi man?\n35                    @l3002ucy Bocchi fan 🤝 followed\n36  Awal aku lihat ini template sih Bocchi ama Nij...\n37  @gaeul_i Oy oy oy mreka udah pada sma ༼;´༎ຶ ۝ ...\n38  RT @JPFBASE: *jpf ada rekomendasi anime mirip-...\n39  RT @hews__: yknow what fuk it\\nill make each m...\n40  Baru banget liat bocchi eps barunya-\\nKinooo a...\n41  RT @hews__: yknow what fuk it\\nill make each m...\n42  RT @hews__: yknow what fuk it\\nill make each m...\n43     lagunya bagus banget sattt, bocchi keren badai\n44  untuk ukuran introvert, BOCCHI KEREN BANGET!!🎸...\n45  RT @hews__: yknow what fuk it\\nill make each m...\n46  RT @denyel6921: Ikuyo from Bocchi The Rock\\n\\n...\n47  ada-ada aja programmer ber-dp Bocchi 😭\\nhttps:...\n48  @THEBLADEDDANCE @qhtjd0120 @JustVtubers Kikuri...\n49  RT @hews__: yknow what fuk it\\nill make each m...\n50  RT @hews__: yknow what fuk it\\nill make each m...\n51  RT @Chivxowl: Bocchi vs Komi https://t.co/bgxs...\n52  RT @hews__: yknow what fuk it\\nill make each m...\n53  RT @booniecake: Bocchi rkgk\\n#ぼっち・ざ・ろっく https:...\n54  RT @hews__: yknow what fuk it\\nill make each m...",
            "text/html": "<div>\n<style scoped>\n    .dataframe tbody tr th:only-of-type {\n        vertical-align: middle;\n    }\n\n    .dataframe tbody tr th {\n        vertical-align: top;\n    }\n\n    .dataframe thead th {\n        text-align: right;\n    }\n</style>\n<table border=\"1\" class=\"dataframe\">\n  <thead>\n    <tr style=\"text-align: right;\">\n      <th></th>\n      <th>Tweets</th>\n    </tr>\n  </thead>\n  <tbody>\n    <tr>\n      <th>0</th>\n      <td>Bocchi the rock adalah anime terbaik musim ini...</td>\n    </tr>\n    <tr>\n      <th>1</th>\n      <td>RT @gihachii: rkgk bocchi\\n#ぼっち・ざ・ろっく https://...</td>\n    </tr>\n    <tr>\n      <th>2</th>\n      <td>RT @pevellynee: mafuyu and bocchi! https://t.c...</td>\n    </tr>\n    <tr>\n      <th>3</th>\n      <td>RT @pevellynee: mafuyu and bocchi! https://t.c...</td>\n    </tr>\n    <tr>\n      <th>4</th>\n      <td>sedang\\nsedang bersyukur aku bukan fans berat ...</td>\n    </tr>\n    <tr>\n      <th>5</th>\n      <td>@alicestruggles Bocchi, Kirishima, Yaeka 🥰🥰🥰</td>\n    </tr>\n    <tr>\n      <th>6</th>\n      <td>grgr bocchi the rock beneran mau belajar gitar...</td>\n    </tr>\n    <tr>\n      <th>7</th>\n      <td>@BeepleSneep Bocchi gang strong</td>\n    </tr>\n    <tr>\n      <th>8</th>\n      <td>@seikafv @animefess_ kak yg bocchi ngomong \"ak...</td>\n    </tr>\n    <tr>\n      <th>9</th>\n      <td>@Luksss84 Bocchi x Nijika</td>\n    </tr>\n    <tr>\n      <th>10</th>\n      <td>RT @banthisworld: Nijika x Bocchi 😍\\n\"Kessoku ...</td>\n    </tr>\n    <tr>\n      <th>11</th>\n      <td>RT @JPFBASE: *jpf ada rekomendasi anime mirip-...</td>\n    </tr>\n    <tr>\n      <th>12</th>\n      <td>Evangelion LDL Fluid Bocchi-Chan!!! https://t....</td>\n    </tr>\n    <tr>\n      <th>13</th>\n      <td>Ngl Holoro\\n\\nAnd bocchi https://t.co/2G2q1lJ45O</td>\n    </tr>\n    <tr>\n      <th>14</th>\n      <td>bocchi mirip banget sama minato aqua wkwk kiku...</td>\n    </tr>\n    <tr>\n      <th>15</th>\n      <td>@iwnht Ada chant Bocchi nggak? Dah lama nggak ...</td>\n    </tr>\n    <tr>\n      <th>16</th>\n      <td>@alicestruggles Bocchi, dress up darling, spy ...</td>\n    </tr>\n    <tr>\n      <th>17</th>\n      <td>RT @JPFBASE: *jpf ada rekomendasi anime mirip-...</td>\n    </tr>\n    <tr>\n      <th>18</th>\n      <td>@AmoebaLe Sangat Bocchi 🥺</td>\n    </tr>\n    <tr>\n      <th>19</th>\n      <td>bocchi'ninki daha makul😭 https://t.co/eM9LGZBfQy</td>\n    </tr>\n    <tr>\n      <th>20</th>\n      <td>RT @banthisworld: Nijika x Bocchi 😍\\n\"Kessoku ...</td>\n    </tr>\n    <tr>\n      <th>21</th>\n      <td>Nijika x Bocchi 😍\\n\"Kessoku Band\" (literally)\\...</td>\n    </tr>\n    <tr>\n      <th>22</th>\n      <td>WIP Hitori Gotou, Bocchi #BocchiTheRock https:...</td>\n    </tr>\n    <tr>\n      <th>23</th>\n      <td>@ProZD Nijika, Ryo and Kita. Bocchi is practic...</td>\n    </tr>\n    <tr>\n      <th>24</th>\n      <td>@ProZD Hitori \"Bocchi\" Gotoh</td>\n    </tr>\n    <tr>\n      <th>25</th>\n      <td>RT @Rodrigo02310421: #pinkuart\\nMiku pinku tie...</td>\n    </tr>\n    <tr>\n      <th>26</th>\n      <td>#pinkuart\\nMiku pinku tiene similar al gotou h...</td>\n    </tr>\n    <tr>\n      <th>27</th>\n      <td>tqm bocchi https://t.co/MLT74unqJB</td>\n    </tr>\n    <tr>\n      <th>28</th>\n      <td>@fakhrul_redza Comel nya\\n\\nBocchi The Rock kan?🤧</td>\n    </tr>\n    <tr>\n      <th>29</th>\n      <td>@artmachinebroke bocchi ! weh!</td>\n    </tr>\n    <tr>\n      <th>30</th>\n      <td>@Guitar_Senpai Hitori Bocchi Maru Maru no Seik...</td>\n    </tr>\n    <tr>\n      <th>31</th>\n      <td>RT @booniecake: Bocchi rkgk\\n#ぼっち・ざ・ろっく https:...</td>\n    </tr>\n    <tr>\n      <th>32</th>\n      <td>Sebelum tidur satu episode bocchi dulu /dipukul</td>\n    </tr>\n    <tr>\n      <th>33</th>\n      <td>@__Yuki48 ANJIR LAH W LIAT LG GAMBARNYA ITU AD...</td>\n    </tr>\n    <tr>\n      <th>34</th>\n      <td>@KurumiAnzai Por qur profanan a la bocchi man?</td>\n    </tr>\n    <tr>\n      <th>35</th>\n      <td>@l3002ucy Bocchi fan 🤝 followed</td>\n    </tr>\n    <tr>\n      <th>36</th>\n      <td>Awal aku lihat ini template sih Bocchi ama Nij...</td>\n    </tr>\n    <tr>\n      <th>37</th>\n      <td>@gaeul_i Oy oy oy mreka udah pada sma ༼;´༎ຶ ۝ ...</td>\n    </tr>\n    <tr>\n      <th>38</th>\n      <td>RT @JPFBASE: *jpf ada rekomendasi anime mirip-...</td>\n    </tr>\n    <tr>\n      <th>39</th>\n      <td>RT @hews__: yknow what fuk it\\nill make each m...</td>\n    </tr>\n    <tr>\n      <th>40</th>\n      <td>Baru banget liat bocchi eps barunya-\\nKinooo a...</td>\n    </tr>\n    <tr>\n      <th>41</th>\n      <td>RT @hews__: yknow what fuk it\\nill make each m...</td>\n    </tr>\n    <tr>\n      <th>42</th>\n      <td>RT @hews__: yknow what fuk it\\nill make each m...</td>\n    </tr>\n    <tr>\n      <th>43</th>\n      <td>lagunya bagus banget sattt, bocchi keren badai</td>\n    </tr>\n    <tr>\n      <th>44</th>\n      <td>untuk ukuran introvert, BOCCHI KEREN BANGET!!🎸...</td>\n    </tr>\n    <tr>\n      <th>45</th>\n      <td>RT @hews__: yknow what fuk it\\nill make each m...</td>\n    </tr>\n    <tr>\n      <th>46</th>\n      <td>RT @denyel6921: Ikuyo from Bocchi The Rock\\n\\n...</td>\n    </tr>\n    <tr>\n      <th>47</th>\n      <td>ada-ada aja programmer ber-dp Bocchi 😭\\nhttps:...</td>\n    </tr>\n    <tr>\n      <th>48</th>\n      <td>@THEBLADEDDANCE @qhtjd0120 @JustVtubers Kikuri...</td>\n    </tr>\n    <tr>\n      <th>49</th>\n      <td>RT @hews__: yknow what fuk it\\nill make each m...</td>\n    </tr>\n    <tr>\n      <th>50</th>\n      <td>RT @hews__: yknow what fuk it\\nill make each m...</td>\n    </tr>\n    <tr>\n      <th>51</th>\n      <td>RT @Chivxowl: Bocchi vs Komi https://t.co/bgxs...</td>\n    </tr>\n    <tr>\n      <th>52</th>\n      <td>RT @hews__: yknow what fuk it\\nill make each m...</td>\n    </tr>\n    <tr>\n      <th>53</th>\n      <td>RT @booniecake: Bocchi rkgk\\n#ぼっち・ざ・ろっく https:...</td>\n    </tr>\n    <tr>\n      <th>54</th>\n      <td>RT @hews__: yknow what fuk it\\nill make each m...</td>\n    </tr>\n  </tbody>\n</table>\n</div>"
          },
          "execution_count": 44,
          "metadata": {},
          "output_type": "execute_result"
        }
      ],
      "source": [
        "posts = api.search_tweets(q = 'bocchi', count = 100, lang = 'id', tweet_mode = 'extended')\n",
        "data = pd.DataFrame([tweet.full_text for tweet in posts] , columns = ['Tweets'])\n",
        "data"
      ],
      "metadata": {
        "id": "znJ4Xnb5Gdu0",
        "outputId": "673a1b07-c50c-4074-ce0b-a14077a45797"
      }
    },
    {
      "cell_type": "code",
      "execution_count": null,
      "outputs": [
        {
          "data": {
            "text/plain": "                                               Tweets\n0   bocchi the rock adalah anime terbaik musim ini...\n1                               rkgk bocchi\\nぼっちざろっく \n2                                  mafuyu and bocchi \n3                                  mafuyu and bocchi \n4   sedang\\nsedang bersyukur aku bukan fans berat ...\n5                             bocchi kirishima yaeka \n6   grgr bocchi the rock beneran mau belajar gitar...\n7                                  bocchi gang strong\n8    _ kak yg bocchi ngomong aku muak dg diriku se...\n9                                     bocchi x nijika\n10   nijika x bocchi \\nkessoku band literally\\n\\ns...\n11   jpf ada rekomendasi anime miripmirip bocchi t...\n12                   evangelion ldl fluid bocchichan \n13                          ngl holoro\\n\\nand bocchi \n14  bocchi mirip banget sama minato aqua wkwk kiku...\n15   ada chant bocchi nggak dah lama nggak nonton ...\n16       bocchi dress up darling spy x family tsubaki\n17   jpf ada rekomendasi anime miripmirip bocchi t...\n18                                     sangat bocchi \n19                            bocchininki daha makul \n20   nijika x bocchi \\nkessoku band literally\\n\\ns...\n21  nijika x bocchi \\nkessoku band literally\\n\\nso...\n22                          wip hitori gotou bocchi  \n23   nijika ryo and kita bocchi is practicing guit...\n24                                hitori bocchi gotoh\n25   \\nmiku pinku tiene similar al gotou hitori bo...\n26  \\nmiku pinku tiene similar al gotou hitori boc...\n27                                        tqm bocchi \n28            _redza comel nya\\n\\nbocchi the rock kan\n29                                        bocchi  weh\n30       _senpai hitori bocchi maru maru no seikatsu \n31                              bocchi rkgk\\nぼっちざろっく \n32     sebelum tidur satu episode bocchi dulu dipukul\n33  __yuki48 anjir lah w liat lg gambarnya itu ada...\n34                   por qur profanan a la bocchi man\n35                               bocchi fan  followed\n36  awal aku lihat ini template sih bocchi ama nij...\n37  _i oy oy oy mreka udah pada sma    gk loli lag...\n38   jpf ada rekomendasi anime miripmirip bocchi t...\n39  __ yknow what fuk it\\nill make each member of ...\n40  baru banget liat bocchi eps barunya\\nkinooo an...\n41  __ yknow what fuk it\\nill make each member of ...\n42  __ yknow what fuk it\\nill make each member of ...\n43      lagunya bagus banget sattt bocchi keren badai\n44        untuk ukuran introvert bocchi keren banget \n45  __ yknow what fuk it\\nill make each member of ...\n46        ikuyo from bocchi the rock\\n\\nぼっちざろっく 喜多郁代 \n47              adaada aja programmer berdp bocchi \\n\n48                  kikuri hiroi from bocchi the rock\n49  __ yknow what fuk it\\nill make each member of ...\n50  __ yknow what fuk it\\nill make each member of ...\n51                                    bocchi vs komi \n52  __ yknow what fuk it\\nill make each member of ...\n53                              bocchi rkgk\\nぼっちざろっく \n54  __ yknow what fuk it\\nill make each member of ...",
            "text/html": "<div>\n<style scoped>\n    .dataframe tbody tr th:only-of-type {\n        vertical-align: middle;\n    }\n\n    .dataframe tbody tr th {\n        vertical-align: top;\n    }\n\n    .dataframe thead th {\n        text-align: right;\n    }\n</style>\n<table border=\"1\" class=\"dataframe\">\n  <thead>\n    <tr style=\"text-align: right;\">\n      <th></th>\n      <th>Tweets</th>\n    </tr>\n  </thead>\n  <tbody>\n    <tr>\n      <th>0</th>\n      <td>bocchi the rock adalah anime terbaik musim ini...</td>\n    </tr>\n    <tr>\n      <th>1</th>\n      <td>rkgk bocchi\\nぼっちざろっく</td>\n    </tr>\n    <tr>\n      <th>2</th>\n      <td>mafuyu and bocchi</td>\n    </tr>\n    <tr>\n      <th>3</th>\n      <td>mafuyu and bocchi</td>\n    </tr>\n    <tr>\n      <th>4</th>\n      <td>sedang\\nsedang bersyukur aku bukan fans berat ...</td>\n    </tr>\n    <tr>\n      <th>5</th>\n      <td>bocchi kirishima yaeka</td>\n    </tr>\n    <tr>\n      <th>6</th>\n      <td>grgr bocchi the rock beneran mau belajar gitar...</td>\n    </tr>\n    <tr>\n      <th>7</th>\n      <td>bocchi gang strong</td>\n    </tr>\n    <tr>\n      <th>8</th>\n      <td>_ kak yg bocchi ngomong aku muak dg diriku se...</td>\n    </tr>\n    <tr>\n      <th>9</th>\n      <td>bocchi x nijika</td>\n    </tr>\n    <tr>\n      <th>10</th>\n      <td>nijika x bocchi \\nkessoku band literally\\n\\ns...</td>\n    </tr>\n    <tr>\n      <th>11</th>\n      <td>jpf ada rekomendasi anime miripmirip bocchi t...</td>\n    </tr>\n    <tr>\n      <th>12</th>\n      <td>evangelion ldl fluid bocchichan</td>\n    </tr>\n    <tr>\n      <th>13</th>\n      <td>ngl holoro\\n\\nand bocchi</td>\n    </tr>\n    <tr>\n      <th>14</th>\n      <td>bocchi mirip banget sama minato aqua wkwk kiku...</td>\n    </tr>\n    <tr>\n      <th>15</th>\n      <td>ada chant bocchi nggak dah lama nggak nonton ...</td>\n    </tr>\n    <tr>\n      <th>16</th>\n      <td>bocchi dress up darling spy x family tsubaki</td>\n    </tr>\n    <tr>\n      <th>17</th>\n      <td>jpf ada rekomendasi anime miripmirip bocchi t...</td>\n    </tr>\n    <tr>\n      <th>18</th>\n      <td>sangat bocchi</td>\n    </tr>\n    <tr>\n      <th>19</th>\n      <td>bocchininki daha makul</td>\n    </tr>\n    <tr>\n      <th>20</th>\n      <td>nijika x bocchi \\nkessoku band literally\\n\\ns...</td>\n    </tr>\n    <tr>\n      <th>21</th>\n      <td>nijika x bocchi \\nkessoku band literally\\n\\nso...</td>\n    </tr>\n    <tr>\n      <th>22</th>\n      <td>wip hitori gotou bocchi</td>\n    </tr>\n    <tr>\n      <th>23</th>\n      <td>nijika ryo and kita bocchi is practicing guit...</td>\n    </tr>\n    <tr>\n      <th>24</th>\n      <td>hitori bocchi gotoh</td>\n    </tr>\n    <tr>\n      <th>25</th>\n      <td>\\nmiku pinku tiene similar al gotou hitori bo...</td>\n    </tr>\n    <tr>\n      <th>26</th>\n      <td>\\nmiku pinku tiene similar al gotou hitori boc...</td>\n    </tr>\n    <tr>\n      <th>27</th>\n      <td>tqm bocchi</td>\n    </tr>\n    <tr>\n      <th>28</th>\n      <td>_redza comel nya\\n\\nbocchi the rock kan</td>\n    </tr>\n    <tr>\n      <th>29</th>\n      <td>bocchi  weh</td>\n    </tr>\n    <tr>\n      <th>30</th>\n      <td>_senpai hitori bocchi maru maru no seikatsu</td>\n    </tr>\n    <tr>\n      <th>31</th>\n      <td>bocchi rkgk\\nぼっちざろっく</td>\n    </tr>\n    <tr>\n      <th>32</th>\n      <td>sebelum tidur satu episode bocchi dulu dipukul</td>\n    </tr>\n    <tr>\n      <th>33</th>\n      <td>__yuki48 anjir lah w liat lg gambarnya itu ada...</td>\n    </tr>\n    <tr>\n      <th>34</th>\n      <td>por qur profanan a la bocchi man</td>\n    </tr>\n    <tr>\n      <th>35</th>\n      <td>bocchi fan  followed</td>\n    </tr>\n    <tr>\n      <th>36</th>\n      <td>awal aku lihat ini template sih bocchi ama nij...</td>\n    </tr>\n    <tr>\n      <th>37</th>\n      <td>_i oy oy oy mreka udah pada sma    gk loli lag...</td>\n    </tr>\n    <tr>\n      <th>38</th>\n      <td>jpf ada rekomendasi anime miripmirip bocchi t...</td>\n    </tr>\n    <tr>\n      <th>39</th>\n      <td>__ yknow what fuk it\\nill make each member of ...</td>\n    </tr>\n    <tr>\n      <th>40</th>\n      <td>baru banget liat bocchi eps barunya\\nkinooo an...</td>\n    </tr>\n    <tr>\n      <th>41</th>\n      <td>__ yknow what fuk it\\nill make each member of ...</td>\n    </tr>\n    <tr>\n      <th>42</th>\n      <td>__ yknow what fuk it\\nill make each member of ...</td>\n    </tr>\n    <tr>\n      <th>43</th>\n      <td>lagunya bagus banget sattt bocchi keren badai</td>\n    </tr>\n    <tr>\n      <th>44</th>\n      <td>untuk ukuran introvert bocchi keren banget</td>\n    </tr>\n    <tr>\n      <th>45</th>\n      <td>__ yknow what fuk it\\nill make each member of ...</td>\n    </tr>\n    <tr>\n      <th>46</th>\n      <td>ikuyo from bocchi the rock\\n\\nぼっちざろっく 喜多郁代</td>\n    </tr>\n    <tr>\n      <th>47</th>\n      <td>adaada aja programmer berdp bocchi \\n</td>\n    </tr>\n    <tr>\n      <th>48</th>\n      <td>kikuri hiroi from bocchi the rock</td>\n    </tr>\n    <tr>\n      <th>49</th>\n      <td>__ yknow what fuk it\\nill make each member of ...</td>\n    </tr>\n    <tr>\n      <th>50</th>\n      <td>__ yknow what fuk it\\nill make each member of ...</td>\n    </tr>\n    <tr>\n      <th>51</th>\n      <td>bocchi vs komi</td>\n    </tr>\n    <tr>\n      <th>52</th>\n      <td>__ yknow what fuk it\\nill make each member of ...</td>\n    </tr>\n    <tr>\n      <th>53</th>\n      <td>bocchi rkgk\\nぼっちざろっく</td>\n    </tr>\n    <tr>\n      <th>54</th>\n      <td>__ yknow what fuk it\\nill make each member of ...</td>\n    </tr>\n  </tbody>\n</table>\n</div>"
          },
          "execution_count": 45,
          "metadata": {},
          "output_type": "execute_result"
        }
      ],
      "source": [
        "data['Tweets'] = data['Tweets'].apply(cleaning_text)\n",
        "data"
      ],
      "metadata": {
        "id": "vbylZvWRGdu1",
        "outputId": "50b6e0ff-c43e-4ec9-c308-fccc3f5aaee8"
      }
    },
    {
      "cell_type": "code",
      "execution_count": null,
      "outputs": [
        {
          "data": {
            "text/plain": "                                               Tweets  Analysis\n0   bocchi the rock adalah anime terbaik musim ini...  Positive\n1                               rkgk bocchi\\nぼっちざろっく   Positive\n2                                  mafuyu and bocchi   Negative\n3                                  mafuyu and bocchi   Negative\n4   sedang\\nsedang bersyukur aku bukan fans berat ...  Negative\n5                             bocchi kirishima yaeka   Positive\n6   grgr bocchi the rock beneran mau belajar gitar...  Positive\n7                                  bocchi gang strong  Positive\n8    _ kak yg bocchi ngomong aku muak dg diriku se...  Negative\n9                                     bocchi x nijika  Positive\n10   nijika x bocchi \\nkessoku band literally\\n\\ns...  Positive\n11   jpf ada rekomendasi anime miripmirip bocchi t...  Positive\n12                   evangelion ldl fluid bocchichan   Positive\n13                          ngl holoro\\n\\nand bocchi   Negative\n14  bocchi mirip banget sama minato aqua wkwk kiku...  Positive\n15   ada chant bocchi nggak dah lama nggak nonton ...  Positive\n16       bocchi dress up darling spy x family tsubaki  Positive\n17   jpf ada rekomendasi anime miripmirip bocchi t...  Positive\n18                                     sangat bocchi   Positive\n19                            bocchininki daha makul   Positive\n20   nijika x bocchi \\nkessoku band literally\\n\\ns...  Positive\n21  nijika x bocchi \\nkessoku band literally\\n\\nso...  Positive\n22                          wip hitori gotou bocchi    Positive\n23   nijika ryo and kita bocchi is practicing guit...  Negative\n24                                hitori bocchi gotoh  Positive\n25   \\nmiku pinku tiene similar al gotou hitori bo...  Positive\n26  \\nmiku pinku tiene similar al gotou hitori boc...  Positive\n27                                        tqm bocchi   Positive\n28            _redza comel nya\\n\\nbocchi the rock kan  Negative\n29                                        bocchi  weh  Positive\n30       _senpai hitori bocchi maru maru no seikatsu   Positive\n31                              bocchi rkgk\\nぼっちざろっく   Positive\n32     sebelum tidur satu episode bocchi dulu dipukul  Negative\n33  __yuki48 anjir lah w liat lg gambarnya itu ada...  Negative\n34                   por qur profanan a la bocchi man  Positive\n35                               bocchi fan  followed  Positive\n36  awal aku lihat ini template sih bocchi ama nij...  Negative\n37  _i oy oy oy mreka udah pada sma    gk loli lag...  Positive\n38   jpf ada rekomendasi anime miripmirip bocchi t...  Positive\n39  __ yknow what fuk it\\nill make each member of ...  Positive\n40  baru banget liat bocchi eps barunya\\nkinooo an...  Positive\n41  __ yknow what fuk it\\nill make each member of ...  Positive\n42  __ yknow what fuk it\\nill make each member of ...  Positive\n43      lagunya bagus banget sattt bocchi keren badai  Positive\n44        untuk ukuran introvert bocchi keren banget   Positive\n45  __ yknow what fuk it\\nill make each member of ...  Positive\n46        ikuyo from bocchi the rock\\n\\nぼっちざろっく 喜多郁代   Positive\n47              adaada aja programmer berdp bocchi \\n  Positive\n48                  kikuri hiroi from bocchi the rock  Positive\n49  __ yknow what fuk it\\nill make each member of ...  Positive\n50  __ yknow what fuk it\\nill make each member of ...  Positive\n51                                    bocchi vs komi   Positive\n52  __ yknow what fuk it\\nill make each member of ...  Positive\n53                              bocchi rkgk\\nぼっちざろっく   Positive\n54  __ yknow what fuk it\\nill make each member of ...  Positive",
            "text/html": "<div>\n<style scoped>\n    .dataframe tbody tr th:only-of-type {\n        vertical-align: middle;\n    }\n\n    .dataframe tbody tr th {\n        vertical-align: top;\n    }\n\n    .dataframe thead th {\n        text-align: right;\n    }\n</style>\n<table border=\"1\" class=\"dataframe\">\n  <thead>\n    <tr style=\"text-align: right;\">\n      <th></th>\n      <th>Tweets</th>\n      <th>Analysis</th>\n    </tr>\n  </thead>\n  <tbody>\n    <tr>\n      <th>0</th>\n      <td>bocchi the rock adalah anime terbaik musim ini...</td>\n      <td>Positive</td>\n    </tr>\n    <tr>\n      <th>1</th>\n      <td>rkgk bocchi\\nぼっちざろっく</td>\n      <td>Positive</td>\n    </tr>\n    <tr>\n      <th>2</th>\n      <td>mafuyu and bocchi</td>\n      <td>Negative</td>\n    </tr>\n    <tr>\n      <th>3</th>\n      <td>mafuyu and bocchi</td>\n      <td>Negative</td>\n    </tr>\n    <tr>\n      <th>4</th>\n      <td>sedang\\nsedang bersyukur aku bukan fans berat ...</td>\n      <td>Negative</td>\n    </tr>\n    <tr>\n      <th>5</th>\n      <td>bocchi kirishima yaeka</td>\n      <td>Positive</td>\n    </tr>\n    <tr>\n      <th>6</th>\n      <td>grgr bocchi the rock beneran mau belajar gitar...</td>\n      <td>Positive</td>\n    </tr>\n    <tr>\n      <th>7</th>\n      <td>bocchi gang strong</td>\n      <td>Positive</td>\n    </tr>\n    <tr>\n      <th>8</th>\n      <td>_ kak yg bocchi ngomong aku muak dg diriku se...</td>\n      <td>Negative</td>\n    </tr>\n    <tr>\n      <th>9</th>\n      <td>bocchi x nijika</td>\n      <td>Positive</td>\n    </tr>\n    <tr>\n      <th>10</th>\n      <td>nijika x bocchi \\nkessoku band literally\\n\\ns...</td>\n      <td>Positive</td>\n    </tr>\n    <tr>\n      <th>11</th>\n      <td>jpf ada rekomendasi anime miripmirip bocchi t...</td>\n      <td>Positive</td>\n    </tr>\n    <tr>\n      <th>12</th>\n      <td>evangelion ldl fluid bocchichan</td>\n      <td>Positive</td>\n    </tr>\n    <tr>\n      <th>13</th>\n      <td>ngl holoro\\n\\nand bocchi</td>\n      <td>Negative</td>\n    </tr>\n    <tr>\n      <th>14</th>\n      <td>bocchi mirip banget sama minato aqua wkwk kiku...</td>\n      <td>Positive</td>\n    </tr>\n    <tr>\n      <th>15</th>\n      <td>ada chant bocchi nggak dah lama nggak nonton ...</td>\n      <td>Positive</td>\n    </tr>\n    <tr>\n      <th>16</th>\n      <td>bocchi dress up darling spy x family tsubaki</td>\n      <td>Positive</td>\n    </tr>\n    <tr>\n      <th>17</th>\n      <td>jpf ada rekomendasi anime miripmirip bocchi t...</td>\n      <td>Positive</td>\n    </tr>\n    <tr>\n      <th>18</th>\n      <td>sangat bocchi</td>\n      <td>Positive</td>\n    </tr>\n    <tr>\n      <th>19</th>\n      <td>bocchininki daha makul</td>\n      <td>Positive</td>\n    </tr>\n    <tr>\n      <th>20</th>\n      <td>nijika x bocchi \\nkessoku band literally\\n\\ns...</td>\n      <td>Positive</td>\n    </tr>\n    <tr>\n      <th>21</th>\n      <td>nijika x bocchi \\nkessoku band literally\\n\\nso...</td>\n      <td>Positive</td>\n    </tr>\n    <tr>\n      <th>22</th>\n      <td>wip hitori gotou bocchi</td>\n      <td>Positive</td>\n    </tr>\n    <tr>\n      <th>23</th>\n      <td>nijika ryo and kita bocchi is practicing guit...</td>\n      <td>Negative</td>\n    </tr>\n    <tr>\n      <th>24</th>\n      <td>hitori bocchi gotoh</td>\n      <td>Positive</td>\n    </tr>\n    <tr>\n      <th>25</th>\n      <td>\\nmiku pinku tiene similar al gotou hitori bo...</td>\n      <td>Positive</td>\n    </tr>\n    <tr>\n      <th>26</th>\n      <td>\\nmiku pinku tiene similar al gotou hitori boc...</td>\n      <td>Positive</td>\n    </tr>\n    <tr>\n      <th>27</th>\n      <td>tqm bocchi</td>\n      <td>Positive</td>\n    </tr>\n    <tr>\n      <th>28</th>\n      <td>_redza comel nya\\n\\nbocchi the rock kan</td>\n      <td>Negative</td>\n    </tr>\n    <tr>\n      <th>29</th>\n      <td>bocchi  weh</td>\n      <td>Positive</td>\n    </tr>\n    <tr>\n      <th>30</th>\n      <td>_senpai hitori bocchi maru maru no seikatsu</td>\n      <td>Positive</td>\n    </tr>\n    <tr>\n      <th>31</th>\n      <td>bocchi rkgk\\nぼっちざろっく</td>\n      <td>Positive</td>\n    </tr>\n    <tr>\n      <th>32</th>\n      <td>sebelum tidur satu episode bocchi dulu dipukul</td>\n      <td>Negative</td>\n    </tr>\n    <tr>\n      <th>33</th>\n      <td>__yuki48 anjir lah w liat lg gambarnya itu ada...</td>\n      <td>Negative</td>\n    </tr>\n    <tr>\n      <th>34</th>\n      <td>por qur profanan a la bocchi man</td>\n      <td>Positive</td>\n    </tr>\n    <tr>\n      <th>35</th>\n      <td>bocchi fan  followed</td>\n      <td>Positive</td>\n    </tr>\n    <tr>\n      <th>36</th>\n      <td>awal aku lihat ini template sih bocchi ama nij...</td>\n      <td>Negative</td>\n    </tr>\n    <tr>\n      <th>37</th>\n      <td>_i oy oy oy mreka udah pada sma    gk loli lag...</td>\n      <td>Positive</td>\n    </tr>\n    <tr>\n      <th>38</th>\n      <td>jpf ada rekomendasi anime miripmirip bocchi t...</td>\n      <td>Positive</td>\n    </tr>\n    <tr>\n      <th>39</th>\n      <td>__ yknow what fuk it\\nill make each member of ...</td>\n      <td>Positive</td>\n    </tr>\n    <tr>\n      <th>40</th>\n      <td>baru banget liat bocchi eps barunya\\nkinooo an...</td>\n      <td>Positive</td>\n    </tr>\n    <tr>\n      <th>41</th>\n      <td>__ yknow what fuk it\\nill make each member of ...</td>\n      <td>Positive</td>\n    </tr>\n    <tr>\n      <th>42</th>\n      <td>__ yknow what fuk it\\nill make each member of ...</td>\n      <td>Positive</td>\n    </tr>\n    <tr>\n      <th>43</th>\n      <td>lagunya bagus banget sattt bocchi keren badai</td>\n      <td>Positive</td>\n    </tr>\n    <tr>\n      <th>44</th>\n      <td>untuk ukuran introvert bocchi keren banget</td>\n      <td>Positive</td>\n    </tr>\n    <tr>\n      <th>45</th>\n      <td>__ yknow what fuk it\\nill make each member of ...</td>\n      <td>Positive</td>\n    </tr>\n    <tr>\n      <th>46</th>\n      <td>ikuyo from bocchi the rock\\n\\nぼっちざろっく 喜多郁代</td>\n      <td>Positive</td>\n    </tr>\n    <tr>\n      <th>47</th>\n      <td>adaada aja programmer berdp bocchi \\n</td>\n      <td>Positive</td>\n    </tr>\n    <tr>\n      <th>48</th>\n      <td>kikuri hiroi from bocchi the rock</td>\n      <td>Positive</td>\n    </tr>\n    <tr>\n      <th>49</th>\n      <td>__ yknow what fuk it\\nill make each member of ...</td>\n      <td>Positive</td>\n    </tr>\n    <tr>\n      <th>50</th>\n      <td>__ yknow what fuk it\\nill make each member of ...</td>\n      <td>Positive</td>\n    </tr>\n    <tr>\n      <th>51</th>\n      <td>bocchi vs komi</td>\n      <td>Positive</td>\n    </tr>\n    <tr>\n      <th>52</th>\n      <td>__ yknow what fuk it\\nill make each member of ...</td>\n      <td>Positive</td>\n    </tr>\n    <tr>\n      <th>53</th>\n      <td>bocchi rkgk\\nぼっちざろっく</td>\n      <td>Positive</td>\n    </tr>\n    <tr>\n      <th>54</th>\n      <td>__ yknow what fuk it\\nill make each member of ...</td>\n      <td>Positive</td>\n    </tr>\n  </tbody>\n</table>\n</div>"
          },
          "execution_count": 46,
          "metadata": {},
          "output_type": "execute_result"
        }
      ],
      "source": [
        "data['Analysis'] = data['Tweets'].apply(getPrediction)\n",
        "data"
      ],
      "metadata": {
        "id": "-C5HrVQYGdu1",
        "outputId": "569eae40-7df5-4403-f79b-36f0d518c146"
      }
    },
    {
      "cell_type": "code",
      "execution_count": null,
      "outputs": [
        {
          "data": {
            "text/plain": "<Figure size 640x480 with 1 Axes>",
            "image/png": "[encoded data removed]"
          },
          "metadata": {},
          "output_type": "display_data"
        }
      ],
      "source": [
        "pos = (data['Analysis']=='Positive').sum()\n",
        "neg = (data['Analysis']=='Negative').sum()\n",
        "\n",
        "sent = [pos, neg]\n",
        "label = 'positive', 'negative'\n",
        "explode = (0.1, 0)\n",
        "\n",
        "plt.pie(sent, explode=explode, labels=label, autopct='%1.1f%%',\n",
        "        shadow=True, startangle=90)\n",
        "plt.title('Opinion About Bocchi')\n",
        "plt.axis('equal')\n",
        "plt.tight_layout()\n",
        "plt.show()"
      ],
      "metadata": {
        "id": "7FFnK5LaGdu1",
        "outputId": "cfa2d46d-bd6d-47d0-c159-80349aaab894"
      }
    }
  ],
  "metadata": {
    "kernelspec": {
      "display_name": "Python 3",
      "language": "python",
      "name": "python3"
    },
    "language_info": {
      "codemirror_mode": {
        "name": "ipython",
        "version": 2
      },
      "file_extension": ".py",
      "mimetype": "text/x-python",
      "name": "python",
      "nbconvert_exporter": "python",
      "pygments_lexer": "ipython2",
      "version": "2.7.6"
    },
    "colab": {
      "provenance": []
    }
  },
  "nbformat": 4,
  "nbformat_minor": 0
}
